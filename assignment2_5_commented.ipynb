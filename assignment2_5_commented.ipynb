{
 "cells": [
  {
   "cell_type": "markdown",
   "metadata": {},
   "source": [
    "First We read the database that we stored (sample1:tweets_h)"
   ]
  },
  {
   "cell_type": "code",
   "execution_count": 26,
   "metadata": {},
   "outputs": [],
   "source": [
    "import pymongo\n",
    "from pymongo import MongoClient\n",
    "\n",
    "client = MongoClient('localhost', 27017)\n",
    "\n",
    "\n",
    "db = client['twitter_h_sample']\n",
    "tweets_h = db.tweets_h"
   ]
  },
  {
   "cell_type": "markdown",
   "metadata": {},
   "source": [
    "We define the ids of 20 medias which tweet about corona. Then check if the user ID or the original tweer's user ID is same as any of them"
   ]
  },
  {
   "cell_type": "code",
   "execution_count": 27,
   "metadata": {},
   "outputs": [
    {
     "name": "stdout",
     "output_type": "stream",
     "text": [
      "0\n",
      "0\n",
      "0\n",
      "0\n",
      "0\n",
      "0\n",
      "0\n",
      "0\n",
      "0\n",
      "0\n",
      "0\n",
      "0\n",
      "0\n",
      "0\n",
      "0\n",
      "0\n",
      "0\n",
      "0\n",
      "0\n",
      "0\n",
      "\n",
      "\n",
      "0\n",
      "0\n",
      "0\n",
      "0\n",
      "0\n",
      "0\n",
      "0\n",
      "0\n",
      "0\n",
      "0\n",
      "0\n",
      "0\n",
      "0\n",
      "0\n",
      "0\n",
      "0\n",
      "0\n",
      "0\n",
      "0\n",
      "0\n"
     ]
    }
   ],
   "source": [
    "ids_media = [428333,759251,807095,5402612,5988062,1652541,822215673812119553,1367531,3108351,14293310,2883841,1344951,816653,972651,6017542,15012486,14780915,14800270,7744592,15754281]\n",
    "\n",
    "for i in ids_media:\n",
    "    x = tweets_h.count_documents({'user.id': i})\n",
    "    print(x)\n",
    "\n",
    "print(\"\\n\")\n",
    "\n",
    "for i in ids_media:\n",
    "    x = tweets_h.count_documents({'retweeted_status.user.id': i})\n",
    "    print(x)\n",
    "        "
   ]
  },
  {
   "cell_type": "markdown",
   "metadata": {},
   "source": [
    "We define the ids of 20 organizations/government officials that tweet about corona. Then check if the user ID or the original tweer's user ID is same as any of them"
   ]
  },
  {
   "cell_type": "code",
   "execution_count": 28,
   "metadata": {},
   "outputs": [
    {
     "name": "stdout",
     "output_type": "stream",
     "text": [
      "0\n",
      "0\n",
      "0\n",
      "0\n",
      "0\n",
      "0\n",
      "0\n",
      "0\n",
      "0\n",
      "0\n",
      "0\n",
      "\n",
      "\n",
      "5\n",
      "0\n",
      "6\n",
      "0\n",
      "1\n",
      "0\n",
      "1\n",
      "0\n",
      "0\n",
      "0\n",
      "0\n",
      "\n",
      "\n",
      "0\n",
      "0\n",
      "0\n",
      "0\n",
      "0\n",
      "0\n",
      "0\n",
      "0\n",
      "0\n",
      "0\n",
      "\n",
      "\n",
      "0\n",
      "26\n",
      "0\n",
      "0\n",
      "0\n",
      "0\n",
      "0\n",
      "0\n",
      "0\n",
      "0\n"
     ]
    }
   ],
   "source": [
    "ids_org = [14159148,33933259,14499829,14700316,5120691,20646711,27860681,14361155,27830610,16348549,16834046]\n",
    "ids_gov = [25073877,18839785,1447949844,366987179,138203134,14260960,1976143068,939091,117777690,3131144855]\n",
    "\n",
    "for i in ids_org:\n",
    "    x = tweets_h.count_documents({'user.id': i})\n",
    "    print(x)\n",
    "    \n",
    "print(\"\\n\")\n",
    "for i in ids_org:\n",
    "    x = tweets_h.count_documents({'retweeted_status.user.id': i})\n",
    "    print(x)\n",
    "\n",
    "print(\"\\n\")\n",
    "for i in ids_gov:\n",
    "    x = tweets_h.count_documents({'user.id': i})\n",
    "    print(x)\n",
    "\n",
    "print(\"\\n\")\n",
    "for i in ids_gov:\n",
    "    x = tweets_h.count_documents({'retweeted_status.user.id': i})\n",
    "    print(x)"
   ]
  }
 ],
 "metadata": {
  "kernelspec": {
   "display_name": "venvCSM",
   "language": "python",
   "name": "venvcsm"
  },
  "language_info": {
   "codemirror_mode": {
    "name": "ipython",
    "version": 3
   },
   "file_extension": ".py",
   "mimetype": "text/x-python",
   "name": "python",
   "nbconvert_exporter": "python",
   "pygments_lexer": "ipython3",
   "version": "3.5.2"
  }
 },
 "nbformat": 4,
 "nbformat_minor": 4
}
