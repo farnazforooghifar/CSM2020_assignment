{
 "cells": [
  {
   "cell_type": "markdown",
   "metadata": {},
   "source": [
    "1. First we read the json file that contains the tweets ( I have changed the file a bit to be able to read it)"
   ]
  },
  {
   "cell_type": "code",
   "execution_count": 1,
   "metadata": {},
   "outputs": [],
   "source": [
    "import json\n",
    "\n",
    "json_file = open('covidtrack_50K.json','r')\n",
    "data = json.load(json_file)"
   ]
  },
  {
   "cell_type": "markdown",
   "metadata": {},
   "source": [
    "2. Preprocessing"
   ]
  },
  {
   "cell_type": "code",
   "execution_count": 2,
   "metadata": {
    "scrolled": true
   },
   "outputs": [
    {
     "name": "stdout",
     "output_type": "stream",
     "text": [
      "590722\n",
      "47488\n",
      "4771\n"
     ]
    }
   ],
   "source": [
    "## Pre-Processing\n",
    "\n",
    "import re\n",
    "from nltk.corpus import wordnet\n",
    "from nltk.stem import WordNetLemmatizer \n",
    "from nltk.corpus import stopwords\n",
    "import numpy as np\n",
    "  \n",
    "lemmatizer = WordNetLemmatizer() \n",
    "\n",
    "en_stops = set(stopwords.words('english'))\n",
    "\n",
    "tweets_text = [None] * 50000\n",
    "\n",
    "words_all = []\n",
    "\n",
    "\n",
    "for i in range(50000):\n",
    "    tweets_text[i] = data['data'][i]['text']\n",
    "    \n",
    "    #Convert text into lowercase\n",
    "    tweets_text[i] = tweets_text[i].lower()\n",
    "    \n",
    "    #Remove non-alphabet characters\n",
    "    tweets_text[i] = re.sub('[“?!\"\"'':@#$%^&*()-_,…]', ' ', tweets_text[i])\n",
    "    tweets_text[i] = re.sub(\"'s\", ' ', tweets_text[i])\n",
    "    \n",
    "    #Break sentences into word\n",
    "    tweets_text[i] = tweets_text[i].split()\n",
    "    \n",
    "    #Remove short word (length less than 3)\n",
    "    tweet_words = [];\n",
    "    for j in tweets_text[i]:\n",
    "        if len(j)>2:\n",
    "            tweet_words.append(j)\n",
    "    tweets_text[i] = tweet_words\n",
    "    \n",
    "    #Lemmatization: converting a word to its base form\n",
    "    for j in range(len(tweets_text[i])):        \n",
    "        tweets_text[i][j] = lemmatizer.lemmatize(tweets_text[i][j])\n",
    "     \n",
    "    #Remove common English words\n",
    "    tweet_words = [];\n",
    "    for word in tweets_text[i]: \n",
    "        if word not in en_stops:\n",
    "            tweet_words.append(word)\n",
    "            words_all.append(word)\n",
    "    tweets_text[i] = tweet_words\n",
    "    \n",
    "    #Remove short word (length less than 3)\n",
    "    tweet_words = [];\n",
    "    for j in tweets_text[i]:\n",
    "        if len(j)>2:\n",
    "            tweet_words.append(j)\n",
    "    tweets_text[i] = tweet_words\n",
    "\n",
    "print(len(words_all))\n",
    "\n",
    "## remove repeated words and count each \n",
    "l = len(words_all)\n",
    "c = 0\n",
    "words = [];\n",
    "counts = [];\n",
    "list_words = words_all\n",
    "\n",
    "while l > 0:\n",
    "    word = list_words[0]\n",
    "    \n",
    "    words.append(word)\n",
    "    \n",
    "    while True:\n",
    "        try:\n",
    "            list_words.remove(word)\n",
    "        except ValueError:\n",
    "            break\n",
    "    \n",
    "    counts.append(l - len(list_words))\n",
    "\n",
    "    l = len(list_words)\n",
    "    #print(l)\n",
    "        \n",
    "words_array = np.array(words)    \n",
    " \n",
    "\n",
    "print(len(words))\n",
    "\n",
    "#Remove words that occur in less than 10 documents, and words that occur in more than 90% of the documents.\n",
    "    \n",
    "dictionary = []\n",
    "\n",
    "for j in range(len(words)):\n",
    "    #print(j)\n",
    "    cnt = 0\n",
    "    for i in range(50000):\n",
    "        c = tweets_text[i].count(words[j])\n",
    "        if c > 0:\n",
    "            cnt = cnt + 1\n",
    "    #print(cnt)\n",
    "    if cnt>10:\n",
    "        if cnt<45000:\n",
    "            dictionary.append(words[j])\n",
    "        \n",
    " \n",
    "print(len(dictionary))\n",
    "\n",
    "#calculate frequency of each word of the dictionary in each tweet\n",
    "\n",
    "freq_vector =np.empty([50000, len(dictionary)], dtype=int)\n",
    "\n",
    "for i in range(50000):\n",
    "    #print(i)\n",
    "    for j in range(len(dictionary)):\n",
    "        c = tweets_text[i].count(dictionary[j])\n",
    "        freq_vector[i][j] = c\n",
    "\n",
    "        \n"
   ]
  },
  {
   "cell_type": "markdown",
   "metadata": {},
   "source": [
    "3. Topic modeling \n",
    "\n",
    "Applying LDA model on our frequency vector"
   ]
  },
  {
   "cell_type": "code",
   "execution_count": 3,
   "metadata": {},
   "outputs": [
    {
     "name": "stderr",
     "output_type": "stream",
     "text": [
      "INFO:lda:n_documents: 50000\n",
      "INFO:lda:vocab_size: 4771\n",
      "INFO:lda:n_words: 454276\n",
      "INFO:lda:n_topics: 20\n",
      "INFO:lda:n_iter: 15\n",
      "WARNING:lda:all zero row in document-term matrix found\n",
      "INFO:lda:<0> log likelihood: -5352877\n",
      "INFO:lda:<10> log likelihood: -3310850\n",
      "INFO:lda:<14> log likelihood: -3193816\n"
     ]
    },
    {
     "data": {
      "text/plain": [
       "<lda.lda.LDA at 0x7f0921c7a828>"
      ]
     },
     "execution_count": 3,
     "metadata": {},
     "output_type": "execute_result"
    }
   ],
   "source": [
    "##Topic modeling\n",
    "import numpy as np\n",
    "import lda\n",
    "import gensim\n",
    "\n",
    "model = lda.LDA(n_topics=20, n_iter=15, random_state=1)\n",
    "\n",
    "model.fit(freq_vector)\n",
    "\n",
    "\n"
   ]
  },
  {
   "cell_type": "markdown",
   "metadata": {},
   "source": [
    "Examining the topics showing 10 words per topic"
   ]
  },
  {
   "cell_type": "code",
   "execution_count": 6,
   "metadata": {},
   "outputs": [
    {
     "name": "stdout",
     "output_type": "stream",
     "text": [
      "Topic 0: http covid may end pandemic one lockdown italy day\n",
      "Topic 1: http death covid home new spread put government stay\n",
      "Topic 2: http family health year people pandemic many borisjohnson friend\n",
      "Topic 3: http covid world amp died news china skynews england\n",
      "Topic 4: http safe keep via ppe govt covid provide frontline\n",
      "Topic 5: http covid lockdown time week life breaking whole lockdownextension\n",
      "Topic 6: http amp people place would trump country today lot\n",
      "Topic 7: death point play realcandaceo we’ve feeling watching arrived exact\n",
      "Topic 8: http trump latest president getting shutdown medical tomfitton advice\n",
      "Topic 9: http covid briefing medium drtedros realdonaldtrump china warned navarro\n",
      "Topic 10: http covid time lockdown life week lockdownextension whole imagine\n",
      "Topic 11: death case new breaking total number http covid toll\n",
      "Topic 12: people continues crisis current yet suffering occupant accelerate drastically\n",
      "Topic 13: help people worker die research day video hour lockdown\n",
      "Topic 14: http covid watch state home emergency japan need live\n",
      "Topic 15: take know want question health news http help get\n",
      "Topic 16: http covid iran spread pandemic say live government american\n",
      "Topic 17: http pandemic new trump death crisis first due behind\n",
      "Topic 18: http covid pandemic health lockdown india day help country\n",
      "Topic 19: http day testing business daily test plan news pakistan\n"
     ]
    }
   ],
   "source": [
    "topic_word = model.topic_word_\n",
    "n_top_words = 10\n",
    "for i, topic_dist in enumerate(topic_word):\n",
    "    topic_words = np.array(dictionary)[np.argsort(topic_dist)][:-n_top_words:-1]\n",
    "    print('Topic {}: {}'.format(i, ' '.join(topic_words)))"
   ]
  },
  {
   "cell_type": "code",
   "execution_count": null,
   "metadata": {},
   "outputs": [],
   "source": []
  }
 ],
 "metadata": {
  "kernelspec": {
   "display_name": "venvCSM",
   "language": "python",
   "name": "venvcsm"
  },
  "language_info": {
   "codemirror_mode": {
    "name": "ipython",
    "version": 3
   },
   "file_extension": ".py",
   "mimetype": "text/x-python",
   "name": "python",
   "nbconvert_exporter": "python",
   "pygments_lexer": "ipython3",
   "version": "3.5.2"
  }
 },
 "nbformat": 4,
 "nbformat_minor": 4
}
