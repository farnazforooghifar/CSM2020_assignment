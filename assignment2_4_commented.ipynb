{
 "cells": [
  {
   "cell_type": "markdown",
   "metadata": {},
   "source": [
    "First We read the databases that we stored (sample1:tweets_h , sample2: tweets_geo)"
   ]
  },
  {
   "cell_type": "code",
   "execution_count": 1,
   "metadata": {},
   "outputs": [],
   "source": [
    "import pymongo\n",
    "from pymongo import MongoClient\n",
    "\n",
    "client = MongoClient('localhost', 27017)\n",
    "\n",
    "db = client['twitter_geo_sample']\n",
    "tweets_geo = db.tweets_geo\n",
    "\n",
    "\n",
    "db = client['twitter_h_sample']\n",
    "tweets_h = db.tweets_h"
   ]
  },
  {
   "cell_type": "markdown",
   "metadata": {},
   "source": [
    "Sample1: calculating the number of tweets that do not contain any URL"
   ]
  },
  {
   "cell_type": "code",
   "execution_count": 2,
   "metadata": {},
   "outputs": [
    {
     "data": {
      "text/plain": [
       "2444"
      ]
     },
     "execution_count": 2,
     "metadata": {},
     "output_type": "execute_result"
    }
   ],
   "source": [
    "tweets_h.count_documents({'entities.urls': []})"
   ]
  },
  {
   "cell_type": "markdown",
   "metadata": {},
   "source": [
    "Sample2: calculating the number of tweets that do not contain any URL"
   ]
  },
  {
   "cell_type": "code",
   "execution_count": 3,
   "metadata": {},
   "outputs": [
    {
     "data": {
      "text/plain": [
       "1921"
      ]
     },
     "execution_count": 3,
     "metadata": {},
     "output_type": "execute_result"
    }
   ],
   "source": [
    "tweets_geo.count_documents({'entities.urls': []})"
   ]
  },
  {
   "cell_type": "markdown",
   "metadata": {},
   "source": [
    "Sample1: calculate number of tweets that are (or contain) retweets"
   ]
  },
  {
   "cell_type": "code",
   "execution_count": 4,
   "metadata": {},
   "outputs": [
    {
     "name": "stdout",
     "output_type": "stream",
     "text": [
      "613\n",
      "2943\n"
     ]
    }
   ],
   "source": [
    "x = tweets_h.count_documents({'retweeted_status': {\"$exists\": False}})\n",
    "y = tweets_h.count_documents({'retweeted':  False})\n",
    "\n",
    "print(x)\n",
    "print(y)"
   ]
  },
  {
   "cell_type": "markdown",
   "metadata": {},
   "source": [
    "Sample2: calculate number of tweets that are (or contain) retweets"
   ]
  },
  {
   "cell_type": "code",
   "execution_count": 5,
   "metadata": {},
   "outputs": [
    {
     "name": "stdout",
     "output_type": "stream",
     "text": [
      "3000\n",
      "3000\n"
     ]
    }
   ],
   "source": [
    "x = tweets_geo.count_documents({'retweeted_status': {\"$exists\": False}})\n",
    "y = tweets_geo.count_documents({'retweeted':  False})\n",
    "\n",
    "print(x)\n",
    "print(y)"
   ]
  },
  {
   "cell_type": "markdown",
   "metadata": {},
   "source": [
    "Sample1: calculate number of tweets with each of the specified languages"
   ]
  },
  {
   "cell_type": "code",
   "execution_count": 6,
   "metadata": {},
   "outputs": [
    {
     "name": "stdout",
     "output_type": "stream",
     "text": [
      "1629\n",
      "233\n",
      "41\n",
      "56\n",
      "492\n",
      "5\n",
      "2\n",
      "32\n",
      "44\n",
      "4\n",
      "1\n",
      "12\n",
      "13\n",
      "69\n",
      "55\n",
      "1\n",
      "2\n",
      "18\n",
      "24\n",
      "4\n",
      "0\n",
      "0\n"
     ]
    }
   ],
   "source": [
    "languages = ['en','fr','de','it','es','zh','ko','pt','tr','fa','sv','nl','ja','hi','th','pl','el','ar','ca','ru','ro','cs']\n",
    "\n",
    "for l in languages:\n",
    "    x = tweets_h.count_documents({'lang': l})\n",
    "    print(x)\n",
    "\n",
    "\n"
   ]
  },
  {
   "cell_type": "markdown",
   "metadata": {},
   "source": [
    "Sample2: calculate number of tweets with each of the specified languages"
   ]
  },
  {
   "cell_type": "code",
   "execution_count": 7,
   "metadata": {},
   "outputs": [
    {
     "name": "stdout",
     "output_type": "stream",
     "text": [
      "511\n",
      "734\n",
      "490\n",
      "334\n",
      "158\n",
      "0\n",
      "0\n",
      "104\n",
      "81\n",
      "5\n",
      "1\n",
      "9\n",
      "11\n",
      "1\n",
      "1\n",
      "5\n",
      "1\n",
      "31\n",
      "3\n",
      "4\n",
      "2\n",
      "4\n"
     ]
    }
   ],
   "source": [
    "languages = ['en','fr','de','it','es','zh','ko','pt','tr','fa','sv','nl','ja','hi','th','pl','el','ar','ca','ru','ro','cs']\n",
    "\n",
    "for l in languages:\n",
    "    x = tweets_geo.count_documents({'lang': l})\n",
    "    print(x)\n"
   ]
  },
  {
   "cell_type": "markdown",
   "metadata": {},
   "source": [
    "Sample1: finding 20 most frequent hashtags\n",
    "\n",
    "To do that:\n",
    "- we first save all the hashtags in an array ( I took all the hashtags from the tweets and also from the retweet field and quoted field). \n",
    "- Then we start from the first hashtag and count the number of the same hashtag through the whole array. We also remove all the hashtags that were the same as the first one. \n",
    "- Then we go to the next hashtag and continue it until we reach the end of the array\n",
    "- At the end we sort the hashtags based on their frequency"
   ]
  },
  {
   "cell_type": "code",
   "execution_count": 8,
   "metadata": {},
   "outputs": [
    {
     "name": "stdout",
     "output_type": "stream",
     "text": [
      "['COVID19', 'coronavirus', 'Coronavirus', 'Covid19', 'Corona', 'CoronaVirus', 'covid19', 'CoronaUpdate', 'IndiaFightsCorona', 'Covid_19', 'CoronaLockdown', 'Taiwan', 'COVID', 'COVID2019', 'StayHomeIndia', 'China', 'Cuba', 'โควิด_19', 'BelieveItOrNot', 'StayAtHomeAndStaySafe', 'StayHome', 'โควิด', 'CoronavirusOutbreak', 'โควิด19เราต้องรอด', 'Trump', 'Yemen', 'CORONAVIRUS', 'France', 'RestezChezVous', 'chloroquine', 'Wuhan', 'SocialDistancing', 'koronavirus', 'USNSMercy', 'COVIDー19', 'USA', 'India', '28Mar', 'CARESAct', 'AkshayKumar', 'BREAKING', 'StayAtHome', 'US', 'confinement', 'VirusCorona', 'Italy', 'Macron', 'corona', 'Covid', 'Michigan', 'BuhariResign', 'lockdown', 'SARSCoV2', 'COVID19france', 'masks', 'StayHomeSaveLives', 'TataTrusts', 'EsteVirusLoParamosUnidos', 'RatanTata', 'โควิด19', 'Belgique', 'Pakistan', 'QuédateEnCasa', 'México', 'stayathome', 'Lockdown', 'Raoult', 'Iraq', 'CuartoMilenio', 'Israel', 'DSSServesMankind', 'CONFINEMENTJOUR11', 'virus', 'PMCARES', 'SaturdayMorning', 'โควิค19', 'DoctorsSpeakUp', 'CoronavirusPandemic', 'dudukrumah', 'CoronaKoDhona', 'Italia', 'ÚltimaHora', 'AfD', 'ConfinementJour11', 'Modiji', 'PhysicalDistance', 'TamilNadu', 'TogetherAlone', 'SanaDistancia', 'lka', 'JUSTIN', 'soignants', 'ReporteABC', 'pandemic', 'ProhibidoDespedir', 'Russia', '5YearsOfWarOnYemen', 'QuedateEnCasa', 'Bergamo', 'EEUU', 'PresidentTrump', 'Gaza', 'QuarantineLife', 'ReadyToServeTheNation', 'Russie', 'Spain', 'America', 'อัปเดต', 'Dems', 'LREM', 'Ehpad', 'CubaSalvaVidas', 'Mortalité', 'food', 'CoronaVirusUpdate', 'trump', 'Conte', 'nyc', 'NeumoniaAtípica', 'protectyourselfandyourfamily', 'Netflix', 'JPTU', 'EU', 'URGENTE', 'JabatanPenerangan', 'Paris', '28Marzo', 'research', 'ฝ่าวิกฤตโควิด19', 'EUCouncil', 'stayhome', 'QuedateEnTuCasa', 'ULTIMAHORA', 'CoronavirusRD', 'A310', 'DidierRaoult', 'socialdistancing', 'cmstu', 'PMRHuluTerengganu', 'cancer', 'Chile', 'Conseileuropeen', 'NL', 'Ramayana', 'CCP', 'KAG2020', 'فيروس_كورونا', 'Race', 'إيطاليا', 'GobiernoDimision', 'Palestina', 'แม่น้ำเจ้าพระยา', 'Actualidad', 'china', 'NHS', 'Francia', 'Coronakrise', 'HRW', 'StayHomeStaySafe', 'BoletínUNAM', 'HongKong', 'Venezuela', 'COVID2019india', 'BastaDeFakeNews', 'cuarentena', 'COVID19PH', 'CuidémonosEntreTodos', 'StaySafeNigeria', 'Rusia', 'DrNurseDLL', 'Covid_19fr', 'Trump2020', 'frontliner', 'jaraksosial', 'Updates', 'EstadoDeAlarma', 'Portaveu', 'IndiaDeservesBetter', 'CPJEmergencies', 'Breaking', 'FoxNews', 'TuckerCarlson', 'springbreak2020', 'StaySafeStayHome', 'FakeNews', 'CoronaVirusChallenge', 'follow', 'CCPVirus', 'instructions', 'Essonne', 'Gruber', 'Mexico', 'Healthworkers', 'FoxAndFriends', 'FlattenTheCurve', 'Hydroxychloroquine', 'ไวรัสโคโรนา', 'Bengaluru', 'Pandemic', 'Live', 'TheStandardCo', 'healthylifestyle', 'Confinement', 'coronavirusindia', 'SeineSaintDenis', 'EasterInfected', 'CoronavirusEnRD', 'DL', 'DiarioLibre', 'Nuhr', 'coronarvirusitalia', 'SNTEsalud', 'Quarantine', 'RDC', 'Lockdown21', 'Phillipines', 'RadioSavana', 'CMin', 'policiers', 'sydneytalker', 'TrumpMeltdown', 'کرونا', 'Ahora', 'ConfinementJour12', 'Volkow', 'UNDAV', 'JanataCurfew', 'AcademicTwitter', 'EstadosUnidos', 'phdmemes', 'phdlife', 'PhD', 'MakeTestingFree', 'PMCaresFund', 'EarthHour', 'WFPAssembly', 'NosViesPasLeursProfits', 'كورونا', 'Louisiana', 'staysafe', 'YoMeQuedoEnCasa', 'Temblor', 'coronavirusbrasil', 'IHU', 'hydroxychloroquine', 'SAF', 'phdchat', 'USNSComfort', 'lungcancer', 'Bangladesh', 'WashYourHands', 'AcademicChatter', 'ÚLTIMAHORA', 'Iran', 'Maddow', 'academia', 'CHILE', 'A330MRTT', 'BuzynGate', 'Macronie', 'masques', 'StrongerTogether', 'phdforum', 'ChiensDeGarde', 'USNavyAlwaysThere', 'IndianArmy', 'Ethic', 'سلامتك_هي_سلامتي', 'أتعلم_لأجل_قطر', 'Zanda', 'TheStandardPhoto', 'Age', 'Belice', 'ChineseVirus', 'LoÚltimo', 'SaturdayThoughts', 'StopTheSpread', 'واصل_رحلة_التعلم', 'Burioni', 'ventilators', 'FactsNotFear', 'SaturdayMotivation', 'Onfray', 'Gender', 'cdnpoli', 'IslamicRepublicVirus', 'Politics', 'لأجلك_ياقطر', 'MAGA', 'auspol', 'vaka5698', 'covid2019', 'Confinementjour12', 'España', 'StaySafe', 'ShelterInPlace', 'CODVID19', 'memes', 'Sexual', 'FightCOVID19', 'cumartesi', 'DWNoticias', 'Religion', 'AYCAS2020', 'WW2', '1020AM', 'malaria', 'CoronavirusPy', 'NuevaYork', 'COVIDCanada', 'StayTheFuckAtHome', 'PakistanFightsCorona', 'SectorExternoConGonzalo', 'SEG2020RD', 'TestingForCovid19', 'ABCEnElEste', 'TimesSquare', '28marzo', 'Nurses', 'Giveaway', 'QuedateEnTuCasaPy', 'Maldives', 'Burundi', 'BuenViernes', 'CoronavirusArgentina', 'COVID19US', 'Covid19usa', '8M', 'rechazotuoportumismo', 'CubaPorLaSalud', 'CoronaPandemie', 'PMReliefFund', 'CubaSalva', 'pandemia', 'ukclapping', 'india', 'clapping', 'TDS', 'KAG', 'CoronaVirusOutbreak', 'coronavirusinpakistan', 'japeri', 'FondationCNRS', 'AFP', 'Mattarella', 'Chinese', 'IndiafightsCorona', 'StimulusPackage', 'healthcare', 'meme', 'โควิท_19', 'หน้ากากอนามัย', 'Debate22', 'G20', 'Bernie2020', 'Palestine', 'CoronavirusFrance', 'Buzyn', 'BernieSanders', 'AVCT', 'TrumpLiedPeopleDied', 'Chine', 'VIDEO', 'CovidUK', 'TrishRegan', 'smoothie', 'chocolate', 'honey', 'breakfast', 'healthyfood', 'CoronavirusUpdates', 'CoronavirusMichigan', 'البحرين', 'gemeinsamgegencorona', 'foodie', 'TeamKentucky', 'KhameneiVirus', 'Chloroquine', 'WHO', 'AfricaPrepares', 'healthy', 'vegan', 'SunNews', 'impeach', 'bees', 'เราไม่ทิ้งกัน', 'AIIMS', 'UK', 'COVID19Ontario', 'PPE', 'Turkey', 'jellyfish', '2000PruebasDiarias', 'MichiganStrong', 'waklakerdoh', 'LKA', 'κορονοϊός', 'WWG1WGA', 'SayangiMalaysiaku', 'राजस्थान_सतर्क_है', 'CoronaVirusIndia', 'Stay_Home_Stay_Safe', 'SocialDistanacing', 'AlMomento', 'Carrefour', 'Cuarentena', 'CoreadelSur', 'Bergame', 'Italie', 'EjércitoTeCuida', 'Newsletter', 'Fluechtlinge', 'HealthcareHeroes', 'कोरोनावायरस', 'Masques', '21daysLockdown', 'FBPE', 'sanitaire', 'terrible', 'livertwitter', 'médecins', 'UEGambassador', 'UnionEuropéenne', 'MásTICMejorPaísTV', 'WuhanVirus', 'Añez', 'อยู่บ้านหยุดเชื้อช่วยชาติ', 'UniversidadPública', 'depression', 'Bitcoin', 'zulia', 'Héroes', 'Salvini', 'RESEARCH', 'Klinikum', 'Wuhanvirus', '25theAmendmentNow', '21daylockdownSA', 'Miami', 'MSM', 'mascarillas', 'ArceCatacora', 'Regierung', 'الولايات_المتحدة', 'NYC', 'StayAtHomeOrder', 'ChinaLiedPeopleDied', 'Juntos', 'CatenoDeLuca', 'HarrisCounty', 'RepúblicaDominicana', 'Mascherine', 'Normandie', '新型コロナウイルス', 'moleg', '新型肺炎', 'MentallyHealthySchools', 'anxiety', 'Immunotherapy', 'PythonDance', 'WorkFromHome', 'Covid19UK', 'ChinaVirus', 'CoronaVirusEnChile', 'YYC', 'OneVoice1', 'Newwiee', 'LGBT', 'newwie', 'klopapierchallenge', 'Ausgangssperre', 'Ostanitekodkuće', 'Men', 'FakeNewsMedia', 'Nobel', '27marzo', 'WarRoomPandemic', 'BarbaraLefebvre', 'Umfrage', 'NewYork', 'Kashmir', 'KylianMbappe', 'politique', 'doctors', 'Canal4RD', 'maintenance', 'alimony', 'CriticalCare', 'FNSPF', 'OregonWay', 'Infografía', 'éco', 'DonateKaroNa', 'coronavirusUSA', 'Stayhometosavelives', 'confinementjour10', 'HopeNotOut', '25thAmendment', 'ChinaPakSolidarity', 'gratis', 'servicioadomicilio', 'respiradores', 'Mumbai', 'PakArmy', 'UAE', 'OilPriceWar', 'OOTT', 'FelizSabado', 'ThaiPBS', 'bats', 'wildlifecrimes', 'NoLosMezcles', 'HS2', 'InPictures', 'CoronaTESTING', 'iltempodellagentilezza', 'CNN', 'ConfinementJour13', 'AlertaADN', 'AmbEisenberg', 'renzi', 'Wallonië', 'RN', 'ConUnaManoAmiga', 'portaveu', 'racist', 'covid19italy', 'IMSS', 'uk', 'ComandoIMSScovid19', 'pophealth', 'medsoc', 'globalism', 'โควิท19', 'weekend', 'SputnikVidéo', 'covid_19', 'แอร์เอเชีย', 'CDC', 'Arizona', 'TataGroup', 'ExpertoUNAM', 'Detroit', 'BuyAmerican', 'BorisJohnson', 'Boris', 'crise', 'SebastianKurz', 'OjoAlDato', 'ICYMI', 'Villahermosa', 'DestacadosTH', 'Luftverschmutzung', '3DFaceShields', 'Lungenkrankheit', 'AfricaRespond', 'envivo', 'RitaWilson', 'TomHanks', 'stayingathome', 'USNavy', 'HerdImmunity', 'DinamiCuba', 'Ditfurth', 'smartworking', 'DeZurdaTeam', 'Cologne', 'SANCHEZAPRISION', 'Europe', 'PedroElSepulturero', 'personas', 'MuerteALR78', 'RojosAsesinos', 'nurse', 'ArribaEspaña', 'coronaupdate', 'Enfield', 'TercerSector', 'Gb', 'CCPvirus', 'IndovinalaQuiz', 'heroes', 'Colombia', 'RRR', 'OBrasilNãoVaiParar', 'ParoleSDeDoc', 'SpringBreak', 'เป๊กผลิตโชค', 'COVID_19', 'Calderdale', 'RememberSlavery', 'story', 'PResident', 'RussiaReport', 'Islamophobia', 'बिहार', '21DaysLockdown', 'Covid19Mx', 'PMOfIndia', 'peckpalitchokexpantip', 'COVID19Fund', 'polmtl', 'OMS', 'coronavirusquebec', 'polqc', 'covid19montreal', 'FuckUE', 'quantum', 'PayCut', 'inequality', 'peste', 'video', 'CCPWHOBruceAylward', 'PressBriefing', 'NoMES', 'Tsipras', 'Outbreak', 'InThisTogether', 'SolidaritéOccitanie', 'ÚltimaLlamada', 'GoldenGirls', 'Pregliasco', 'Lindemann', 'coronaVirus', 'Lyon', 'LyonSansIslamistes', 'Militärs', 'Argentinien', 'Memoria', 'Surveillance', 'UAV', 'Drone', 'Drones', 'AplausoColectivo', 'Baahubali', 'Khanewal', 'Odisha', 'Lombardía', 'كرونا', 'Hindutva', 'CMIN', 'عُمان', 'اعيدوا_العالقين_البحرينين', 'PMcares', 'Teleton', 'Modi', 'ShaheerSheikh', 'WeSaluteYouAll', 'NoGriftThisTime', 'Donated25Crores', 'CruzRojaPinto', 'COVID19mexico', 'nepnieuws', 'iot', 'mentalhealth', 'anesthésiques', 'AlpesMaritimes', 'médicaments', 'Gvt', 'HCW', 'Luxfer', 'LettingMichigandersDie', 'Biden', 'Gemeinsam', 'QuarantineCentre', 'Spanien', 'IMPACTANTE', 'CoronaWarriors', 'reusablemasks', 'Confinementjour13', 'CONVID19', 'Fontana', 'Pelosi', 'SanFransisco', 'Aviation', 'Renzi', 'GiuseppeConte', 'frontalieri', 'CoronavirusARV', 'OSSTF', 'Twitter', 'Portugal', 'htownrush', 'HealthCareHeroes', 'shadowbans', 'NoPay', 'Amazon', 'Dictator', 'keyworkers', 'Canadian', 'misinformation', 'Rouen', 'cmdrfsikkim', 'Martinique', 'Mefloquine', 'संतरामपालजीमहाराज', 'UIEM', 'tips', 'BastaDeNoticiasFalsas', 'leadership', 'bastadehisteriacolectiva', 'PoliceBrutality', 'FakireTestYokmu', 'UnitedStates', 'Frontliners', 'NoswankyNostyling', 'BJP', 'Kogler', 'Kurz', 'test', 'आलसी_जावड़ेकर', 'censura', 'ÍkerJiménez', 'DeLuca', 'Bande', 'WorldHealthOrganization', 'StayAtHomeSaveLives', 'Fedez', 'CognitiveDecline', 'EasterStrike', 'TrumpLiesAboutCoronavirus', 'PedsICU', 'impression3D', 'masque', 'Qatar', 'Adhan', 'ExCel', 'OperativoEscudo', 'TataSons', 'Politica', 'PositivePorn', 'IA', 'IMPORTANTE', 'Orellana', 'facebook', 'periscope', 'Extremadura', 'UnionEuropea', 'Flagrancia', 'SunkkuGaucho', 'TIORR', 'TheMe', 'سیدجعفر_کریمی', 'NoticiasFalsas', 'freeworld', 'Chubut', 'NawakNgalam', 'Valganna', 'APSFNewsletter', 'Granada', 'الكورونا', 'Srilanka', 'تركيا', 'EssentialWorker', 'BeSafe', 'khou11', 'WearGloves', 'sumo', 'انطاليا', 'stimulusbill', 'AMJoy', 'Doctors', 'SCMR', 'Paris10', 'Durban', 'BlackStudiesBCU', 'SouthAfrica', 'Love', 'CoronaVirusNigeria', 'BeBest', 'NotADressRehearsal', 'medicalscientists', 'فيروس_كورونا_المستجدّ', 'المملكة_العربية_السعودية', 'MiguelHernandez', 'Peace', 'كورونا_الجديد', 'COVID19NIGERIA', 'IT', 'CuarentenaTotal', 'Day2', 'VirusChina', 'Boston', 'jtotal', 'lightingupmywindow', 'TrumpIsKillingUs', 'gratitude', 'socialresponsibility', 'JaredKushner', 'Covid19India', 'UnionEuropeenne', 'Lopalco', 'TwitterPhilanthrophy', 'DatRona', 'FactsMatter', 'savetheplanet', 'CoronaVillains', 'Patience', 'Tata', 'superfoods', 'RETWEET', 'WesternCommand', 'Minnesota', 'janko', 'IndiaFightsCoronavirus', 'NationalLockDown', 'Corvid19uk', 'COVID19Pakistan', 'Education', 'Income', 'SaudiArabia', 'Language', 'Nationality', 'mermaid', 'washyourhands', 'Poverty', 'Caracas', 'shameonBCCI', 'TrumpLies', 'MES', 'YourSafetyisMySafety', 'LearningNeverStops', 'Death', 'لنتكاتف_من_اجل_قطر', 'gestion', 'Troika', 'Mauritius', 'ららぽーと', '千葉', 'COVIDIOT', 'Resistance', 'SergioMattarella', 'COVID19deutschland', 'coronavirussafety', 'coronavirusupdate', 'lockdown21', 'lockdown2020', 'putin', 'studentnurse', 'TheSimpsons', 'music', 'SaferAtHome', 'TrumpVirus2020', 'コロナウイルス', 'Covid19turkey', 'รถพุ่มพวง', 'hedgehogs', 'graphicmedicine', 'WeAreIUHealth', 'Blotus', 'コロナ', 'CuarentenaCoronavirus', 'CoronavirusEspaña', 'CoronaVirusInNigeria', 'Covid19Out', 'LoMásLeído', 'Puebla', 'TheNews', 'Nigeria', 'coffeelover', 'coffeeshop', 'espresso', 'organic', 'nutrition', 'tea', 'juice', 'plantbased', 'mansuryavas', 'BollywoodStar', 'GlobalCeasefire', 'TurnWaterOn', 'NosCuidamosEntreTodxs', 'Seattle', 'smttt', 'LockdownWithoutPlan', 'internalmedicine', 'brazaleteazul', 'FERugby', 'chart', 'epidemia', 'Medien', 'albanija', 'GoodGuy', 'Airport', 'coffeetime', 'cafe', 'coffee', 'VaticanNews', 'vaccine', 'Vaccine', 'media', 'gonullukarantina', 'KaaNyumbani', 'CurfewKE', 'LikoniFerry', 'coronavirusuk', 'Homophobie', 'LaSaludEnPrimerLugar', 'IngJuanCarlosBarujaGOBERNADOR', '28deMarzo', 'wirbleibenzuhause', 'Oklahoma', 'Vermieter', 'Afghanistan', 'شاروخان', 'tegemoetkoming', 'SQAWebinars', 'WFH', 'workfromhome', 'softwaretesting', 'beekeeper', 'love', 'SibethNdiaye', 'Pénurie', 'CNNTownhall', 'Tcot', 'texas', 'toiletpaper', 'FreeASSANGE', 'political', 'COVID19fr', 'prisoner', 'สายด่วนกรมควบคุมโรค1422', 'spreadpositivity', 'spreadkindness', 'spreadlove', 'AMLO', 'Norimberga', 'DiMaio', 'cornoravirusuk', 'Bilecik', 'TürkiyeKazanacak', 'Pazaryeri', 'SriLanka', 'Bozüyük', 'MéxicoUnido', 'Osmaneli', 'unitedstates', 'eu', 'us', 'WhistlePodu', 'ThatWomaninMichigan', 'dataviz', 'BigData', 'DataScience', 'WeFeedYou', 'COVIDIDIOT', 'Schiff', 'Ohio', 'CoronaVirusSA', 'CripTheVote', 'easports', 'HighRiskCovid19', 'covid', 'SuckItAbleism', 'American', 'Facetime', 'science', 'EaS', 'SomosCuba', 'coronaviruscovid19', 'Söğüt', 'CoronisedWorld_Media_IOK', 'Yenipazar', 'StandUp4HumanRights', 'Cina', 'communicating', 'Caribe', 'EmQuedoACasa', 'kids', 'короновирус', 'TESTVIRUSNOW', 'BANKMITRA', 'SwasthaBharat', 'IMF', 'hs2', 'ผนงรจตกม', 'mohap_uae', 'CryptoKoLegalKaro', 'wewantcryptoinPak', 'HEADPHONESSHOWSubkilega', 'FightCorona', 'FightAgainstCoronavirus', 'tatagroup', 'BersatuTeguhBerceraiRoboh', 'mascherine', 'Suporter', 'Gölpazarı', 'SPORT', 'İnhisar', 'Vezirhan', 'Bayırköy', 'coranaturkiye', 'eBayKleinanzeigen', 'Trockenhefe', 'Florida', 'Roma', 'videoconferenza', 'Tolkien', 'Ventilators', 'concessioni', 'CoronaUpdatesInIndia', 'HalkKonusuyorDinleyin', 'Risma', 'Surabaya', 'TriRismaharini', 'Bonek', 'Persebaya', 'ArbitraryDetention', 'AMERICAFirst', 'Ccot', 'jauhicrowd', 'vaccins', 'Biosecurity', 'NotADemHoax', 'BastadeFakeNews', 'STAYHOME', 'amancioortega', 'DNA', 'Delhi', 'prison', 'WHOLiedPeopleDied', 'travelban', 'Milano', 'lalege', 'lagov', 'WeAreInThisTogether', 'FlattenTheCuve', 'PhysicalDistancing', 'COVID19NL', 'PmáMetro', 'BCBRP', 'gamers', 'ccot', 'Bioprotección', 'CoronaLockdown_The_World', 'CONFINEMENTJOUR12', 'Halberstadt', 'tuerkisgruen', 'parenting', 'InformationDistancing', 'Tamaulipas', 'Coahuila', 'NuevoLeon', 'Eua', 'MarchMadness', 'mediji', 'Ijtama', 'μενουμεστοσπιτι', 'TableeghiJamaat', 'Raiwind', 'COVID19dz', 'TrumpVirus', 'รีวิวชัยภูมิ', 'รีวิวอีสาน', 'ElSalvador', 'UChicago', 'SomosLundinMining', 'tcot', 'BusinessContinuity', 'pjnet', 'Pandemie', 'albania', 'KarmYogi', 'murieron', 'Irán', 'Clinton', 'confinementjour12', 'TATA', 'Svizzera', 'Forscher', 'IStandWithGreece', 'SARS_COV_2', 'IStandWithItaly', 'CoronavirusPandemik', 'ΜΕΝΟΥΜΕΣΠΙΤΙ', 'μενουμεσπίτι', 'ruedadeprensa', 'paiement', 'Mighty200', 'TWGRP', 'internet', 'sendhelp', 'IsolationLife', 'teaparty', 'FDR', 'hannity', 'tucker', 'Christian', 'maga', 'maga2020', 'kag', 'AmericansHome', 'kag2020', 'NRA', 'SomosContinuidad', 'ReparationsForBlackAmericans', '武漢', '中共病毒', '新冠肺炎', 'DecolonisetheBuffet', 'ConfinementGeneral', 'Reparation', 'Reparations', 'ReparationsHearing', 'Reparations2020', 'HentikanCovid', 'EnsEnSortirem', 'eyvallah', 'Bergogliotivogliobene', 'Bergoglio', 'DocWarriors', 'UnItaliaCheAiuta', 'Masks4All', 'publichealth', 'NashvilleTN', '武汉肺炎', 'HungerStrikeLaval', 'Antofagasta', 'COVID2019chile', 'ingérence', 'Etats', 'flattenthecurve', 'TrumpPlague', 'CoronavirusOubreak', 'CONFINEMENTJOUR10', 'onnoublierapas', 'qatar', 'قطر', 'ShareThis', 'VoteForBernie', 'SMEs', 'VoteNewJersey', 'RTVD', 'nurses', 'Sumber', 'หน้ากากผ้า', 'หน้ากากอนามัยพร้อมส่ง', 'Durruti', 'workersoftheworldunite', 'Resist', 'torygenocide', 'SBS뉴스', '코로나19', 'Reporte', 'perintahkawalanpergerakan', 'RestrictedMovementOrder', 'covid19idiot', 'TrumpPressConf', 'NewJersey', 'NewJerseyLockdown', 'NewJerseyPrimary', 'CubaSolidaria', 'OpenWHO', 'FicaEmCasa', 'Ifop', 'SaintAntoine', 'Hospitalist', 'Brickell', 'Catalogne', 'Campania', 'News', 'PNoticias', 'besetzen', 'SaveAssangeCovid19', 'CoronaMuktAwaam', 'trudeau', 'RepatriacionALosArgentinos', 'Adrenochrome', 'CabalTakeDown', 'Illuminati', 'DeepState', 'gesara', 'NESARA', 'ReinflateTheCurve', 'sondage', 'UNDOCUMENTED', 'FBI', '1u', 'Jaipur', 'WeMakeItFly', 'stikstofakkoord', 'stikstofcrisis', 'Caumes', 'theanimalsrevolution', 'cx', 'customerexperience', 'NeumoniaAtipica', 'Kolar', 'Karnataka', 'AndhraPradesh', 'BhekiCele', 'PoliceMinistry', 'Paraguarí', 'StayInformed', 'CastillayLeón', 'FMTNews', 'NOLA', 'HappyBirthdayLadyGaga', 'FuerEuchGemeinsamStark', 'quarentenaBrasil', 'vacuna', 'CoronavirusLockdown', 'NoFakeNews', 'CytokineStorm', 'FakeDeFafs', 'BuhariIsMissing', 'Louisville', 'CoVid19', 'CuandoEstoSeAcabe', 'quedateencasa', 'AceAgro', 'Virginia', 'California', 'Apotheke', 'consellers', 'EvdeKal', 'كرة_القدم', 'Football', 'ScandaledÉtat', 'Intubación', 'ILSavait', 'Chabriere', 'police', 'namaste', 'kerjadarirumah', 'basuhtangan', 'ประชาธิปัตย์', 'SureshRaina', 'CoronavirusSA', 'TogetherKy', 'nhs', '11M', 'myPaddiapp', 'KitaMestiMenang', 'Oro', 'rtenews', 'KokoResign', 'ResignKokoPimentel', 'ChinaFlu', 'EdouardPhilippePM', 'infobuzz9ja', 'Alby', 'leronlimab', 'sala091', 'StayInside', 'ACC20', 'Netherlands', 'SoutienSoignants', 'IlsPaieront', 'นี่ข้อมูลจากศูนย์โควิด19', 'OnOublieraPas', 'gouvernement', 'coronavirusoutbreak', 'Rusya', 'carbonTAX', 'เว็บปลอม', 'Petroleo', 'intimacy', 'sex', 'RESTEZCHEZVOUS', 'SOLIDARITEHOPITAUX', 'BFMTV', 'CNEWS', 'LCI', 'RandPaul', 'ThisTooShallPass', 'BishopSamZuga', 'fb', 'Banks', 'GoogleAlerts', 'askquestions', 'sononosso', 'Sweeden', 'covidcanada', 'Jesuslifestyle', 'Belgrave', 'yoga', 'COVID19France', 'masturbation', 'orgasm', 'mundo', 'grow', 'ACCIC', 'ACCCVT', 'ImRaina', 'ImpeachedForever', 'coronavirusturkiye', 'note', 'FordNation', 'Disease', 'usaCoronavirus', 'UniteBlue', 'communitypolicing', 'TheResistance', 'covid19philippines', 'Coronafighters', 'Karantina', 'KadinaSiddeteHayir', 'Capriasca', 'FilthyMarkus', 'mooc', 'NEW', '台湾', 'Covid2019TR', '新型コロナ', 'toldwithexposure', 'itsme', 'evdekal', 'Ticino', 'DonaldTrumpsLegacy', 'India_Corona_Time_Bomb', '休業補償', 'UpdateVirusCorona', 'kewl', 'Curtsy', 'ShakeHands', '武漢肺炎', 'educacion', 'TrumpLiesEverytimeHeSpeaks', 'WuhanHealthOrganisation', 'ICMR', 'cardiotwitter', 'Peso', 'TheMoreYouKnow', 'StayHomeSupportMedics', 'PM', 'APDforcorona', 'Newsphh', 'COVID19Awareness', 'ಮನೇಲಿರಿ_ಸುರಕ್ಷಿತವಾಗಿರಿ', '自粛補償', 'RECHAZOCRECE', 'cargo', 'XiMaio', 'OpSafeWinter', 'Gabon', 'Homeless', 'read', 'berlin', 'Usa', 'homeless', 'restateacasa', 'GLOBAL241', 'plastic', 'study', 'workhardplayhard', 'NASSCOMFutureSkills', 'selfisolate', 'coronavirusmichigan', 'Pray', 'FamiliaIMSS', 'IMSSsolidario', 'IndiaMustFightBack', 'உயிர்காக்க_ஊரடங்கு', 'Toronto', 'saratoga', 'monitorupdates', 'OBrasilNãoPodeParar', 'Knife', 'LegalExtortion', 'LegalTerrorism', 'CoronavirusPandemicUSA', 'StayHomeTexas', 'NationTV', 'ögs', 'deafchildren', 'StayAtHomeStaySafe', 'coronavirusinindia', 'QuarantineAndChill', 'FlyForHolidays', 'CoronaInMaharashtra', 'HumanityFirst', 'fightagainstcorona', 'CoronaSpreadInPakArmy', 'FirstResponders', 'hireme', 'COVID19uk', 'mepolitics', 'ทีมอยู่บ้าน', 'covid19Tanzania', 'Chacao', 'OrdenYSeguridad', 'SeguridadCiudadana', 'الصين', 'ResteChezToi', 'OJK', 'OJKIndonesia', 'Keuangan', 'Restrukturisasi', 'Pembiayaan', 'CegahVirusCorona', 'MRCBeALeader', 'PamojaTunavukaSalama', 'LockdownHouseParty', 'PIDE', 'PIDEIDEAS', 'MentalHealth', 'Physicalhealth', 'PublicHealth', 'Socialhealth', 'E', 'NoticiasTVN', 'TousMobilisés', 'HomeOffice', 'Groupchat', 'ScienceAtHome', 'TaiwanCanHelp', 'Saint_sup', 'MemoriaVerdadYJusticia', 'StandUp4Humanrights', 'Belgie', 'Honte', 'ErasmusPlus', 'avion', 'Luftwaffe', 'ldnont', 'GiletsJaunes', 'OuSontLesMasques', 'PrayAtHome', 'firstresponders', 'LateLate', 'UNDAV10Años', 'fightracism', 'SUP', 'italystaystrong', 'smartmeter', 'Covid19SymptomTracker', 'HCSOCares', 'Biden2020', 'TeamJoe', 'CoronavirusenRD', 'DeliveringHappiness', 'IndiaFightCorona', 'HarEkKaamDeshKeNaam', 'STPIINDIA', 'coronaberlin', 'COVID19Belgium', 'TuSeguridadNuestraPrioridad', '1M300KSAINTxMingEr', 'Saturday', 'TrueID', 'TrueCJ', 'Truecjcreations', 'ProtectNurses', 'Alertecovid19', 'infographics', 'remdesivir', 'scicomm', 'NJpol', 'CoronaUpdates', 'Reading', 'หน้ากากอนามัยราคาถูก', 'relieffund', 'AbortionIsNotHealthcare', 'Johnson', 'ukprimeminister', 'ChineseCoronaVirus', 'PayalRohatgi', 'whatgoesaroundcomesaround', 'CubaSavesLives', 'ableg', 'COVIDSanctionsLie', 'StopIRGCCyberArmy', 'برندازم', 'DeIdayVuelta', 'PMCares', 'HapusCOVID19', 'DudukRumah', 'EnemiesOfIndia', 'ManlyQuarantineSurvivalTips', 'QatarNews', 'YourSafetyIsMySafety', 'Dua', 'BenEvdeyken', 'AffaHayır', 'diyanetkapatılsın', 'LotR', 'quarantine', 'readmore', 'FightRacism', 'QuaratineLife', 'SundayThoughts', 'TestTestTestNOW', 'RenaudMuselier', 'Next', 'ventilator', 'LungDamage', 'beaches', 'bigdata', 'healthdata', 'boston', 'CuidemosnosEntreTodos', 'covid19chile', 'LatinAmerica', 'Africa', 'NationSalutesCoronaFighters', 'MéxicoSeQuedaEnCasa', 'agenda', 'walkthetalk', 'YehRishteyHainPyaarKe', 'OurNHSPeople', 'Algérie', 'LeadershipDevelopment', 'futureofwork', 'PSOnPoint', 'posta', 'özgürgökmençelenk', 'FreeThemAllForPublicHealth', 'كورونا_المستجد', 'HealthForAll', 'Quidproquo', 'Faitsdivers', 'Teleton2020', 'sport', 'DonFrancisco', 'Norovirus', 'QuietStorm', 'podcast', 'NBA', 'مشهد', 'إيران', 'Coronovirusireland', 'Confinementotal', 'Germany', 'EuropeStrong', 'golf', 'SwineFlu', 'WuhanCoronaVirus', 'MásTICMejorPrevención', 'FM91', 'RevolucionCubana', 'CubaVsBloqueo', 'yemen', 'Staysafe', 'Méfloquine', 'EstadoEspañol', 'EvindeKalAnkara', 'iamfrench', 'iamhuman', 'lifewithcorona', 'PlanCoronavirus', 'ไวรัสโคโรนาสายพันธุ์ใหม่2019', 'SARSCOV2', 'قم', 'FelizFinde', 'OlaDeCalor', '5SOS', 'QuedOTEnCasa27M', 'Gigaton', 'BTSARMY', 'คั่นกูEP6', 'YolYokYalanCok', 'İbbHizmet', 'sosyalmesafe', 'ArnavutköyRte', 'sihatmilikku', 'DerechoAInformar', 'Artículo66', 'mycoviddiary', 'AllmenMustLive', 'StimulusPackage2020', 'NarendraModi', 'ToutConflitualiser', 'HOPE', 'LOVE', 'alleensamen', 'Hubei', 'Morcelliana', 'Scholé', 'ChinarCorps', 'OpNamaste', 'CoronaMuktAwam', 'IghaloFC', 'SanidadDA', 'PLOMO19', 'HousingActionDay2020', 'DecodeursUE', 'oncology', 'CuarentenaTime', 'TNHealth', 'MeQuedoEnCasa', 'co', 'NoSonVacaciones', 'Marseille', 'Lombardia', 'wbaisree', 'solidaridad', 'generosidad', 'sinarharianprihatin', 'Beds', 'OR03', 'ORpol', 'makerlife', 'startups', 'JabatanPerdanaMenteri', 'JPM', 'PerintahKawalanPergerakan', 'malaysiabebascovid19', 'socialdistance', 'KeepCalmStayHome', 'sinarharian', 'Tarragona', 'qis', 'ConfinamentCatalunya', 'Gurkhas', 'NightingaleHospital', 'ExCelCentre', 'GetItDone', 'Coronalockdown', 'PeePeePresident', 'हुज़ूर', 'Osaka', 'Lugo', 'CitiNewsroom', 'Bhutan', 'quantumcomputingh', 'quantumiscoming', 'quarintinesex', 'nonmotorizedtransportation', 'pupplay', 'PupAjBlack', 'อยู่บ้านหยุดเชื่อช่วยชาติ', 'SaveThailand', 'StayStrongThailand', 'joemquedoacasa', 'quedatacasa', 'EvdeHayatVar', 'government', 'SocialDistance', 'Lyari', 'essentialservices', 'adaptivemobility', 'innovation', 'OBrasilVaiParar', 'ซีเอ็ด', 'AsiaSocietyPH', 'PutYoungPeopleFirst', 'Prison', 'Avocats', 'SafeHands', 'tech', 'business', 'entrepreneur', 'venturecapital', 'privateequity', 'Nepal', 'JHU', 'StayAtHomeSa', 'manbush', 'النظام_العالمي_القذر', 'Research', 'SweetStayHomeAlabama', 'Airtel', 'JuggernautBooks', 'Marathi', 'मराठी', 'म', 'cumshot', 'BroSex', 'blowjob', 'bicock', 'coronavirusitalia', 'Moodys', 'Coronavirusbalt', 'KeepYourDistance', 'StayHomeHeroes', 'OnlyBernieBeatsTrump', 'BernieIsOurFDR', 'BernieForPresident', 'WomenForBernie', 'DigitalHealth', 'NicaraguaInvestiga', 'mefloquine', '想像力で世界を救え', 'CoronaVirusSverige', 'منظمات_حمل_الحطب', 'WearAMask', 'ElCacas', 'tn_together_againstcorona', 'DJSBU', 'restezchezvous', 'CoronovirusPandemic', 'UrbiEtOrbi', 'brazil', 'Limbaugh', 'Bahrain', 'CovidTS', 'HospitalLaPaz', 'menoumespiti', 'COVID19greece', 'covid19Gr', 'سلام_مفتی_منیب_الرحمن', 'TrumpLiesAmericansDie', 'GAD', 'ВывозимНаших', 'CruzRojaresponde', 'PuydeDôme', 'sante', 'Krankenhäuser', 'PublicHealthCrisis', 'CubaesSalud', 'Navratri2020', 'Screening', 'stayhomestaysafe', 'bdsm', 'ACCleadership', 'LaPaz', 'Mentalhealth', 'CoronavirusUK', 'pompiers', 'NoVolverán', 'éloignementphysique', 'partagerenfrançais', 'frab', 'mediaexposed', 'Covid19SA', 'FMBA', 'mefloquina', 'लड़ेंगे_कोरोना_से', 'Livestreams', 'CopingWithCOVID19', 'LINETODAY', 'Coronaviras', 'art', 'drawing', 'FarmLife', 'lofrenamosentretodos', 'StandWithKerala', 'CoronaStopKaroNa', 'Idiafightagainstcorona', 'Covid_19india', 'MigrantsOnTheRoad', 'crisismanagement', 'votregouvernement', 'TNNช่อง16', 'OneHealth', 'WCCardio', 'Cartabellotta', 'SaludPublica', 'mandilesazules', 'SelfDetermination', 'WallStreet', 'IRGCTerrorists', 'DontSpreadTheVirus', 'Chioma', 'Davido', 'PresidentCovikk', 'TBJoshua', 'LAFD', 'Rezza', 'UnitedNotDivided', 'IlsSavaient', 'TAP', 'bird', 'superspreaders', 'dynamicChart', 'InteractiveChart', 'tvOneNews', 'KabarPetangtvOne', 'WNA', 'Eropa', 'COVID19Indonesia', 'PrevenirEsVencer', 'UnidosVenceremos', 'planétaire', 'géopolitique', '21daylockdown', 'Träning', 'violenciadegénero', 'LasSancionesSonUnCrimen', 'PorTuSaludViveMás', 'TiempoDeTodos', 'MeInformoYMeCuido', 'TN_Together_AgainstCorona', 'fisherman', 'fishingbanperiod', 'Folkhälsa', 'Fysiskhälsa', 'Mentalhälsa', 'Socialhälsa', 'Nutr', 'Ciroesfake', 'TX31', 'Launiónhacelafuerza', 'Americans', 'RSVP', 'RETWEEET', 'MardiGras2020', 'NewOrleans', 'Solidarity', 'saracov2', 'BATColloquium', 'SangerHeart', 'CharlotteNC', 'violenciamachista', 'EsteVirusLoParamosEntreTodos', 'quédateencasa', 'covid19esp', 'TantitaMadre', 'LaDictaduraNosQuiereMuertos', 'KamiTeamMalaysia', 'ProtectTheNHS', 'bioMérieux', 'DemandaAlGobierno', 'SaluteToAllFrontliners', 'wikicovidec', 'Galdakao', 'Codacons', 'WhereAreTheTests', 'MedicalSuppliesNow', 'KamalHaasan', 'Coronaindia', 'ImpeachedForLife', 'residencias', 'PICU', 'DiseaseFree_With_TrueWorship', 'DefenseProductionAct', 'Gitmo', 'TheStormHasArrived', 'Traitor', 'Coup', 'QAnon', 'Batsoup', '24M', 'PañuelosConMemoria', 'Cannes', 'Culture', 'letsgettesting', 'ontariolockdown', 'vcnobemestar', 'ไม่รับปริญญาจากสถาบันกษัตริย์', 'gaysp', 'gaypride', 'hotboy', 'isolamentosocial', 'Vida', 'เครียด', 'เหนื่อย', 'ItIsWell', 'Telementalhealth', 'CovidNGR', 'Telepsychiatry', 'Teletherapy', 'KAG2020Landslide', 'Chicago', 'COVID19Ghana', 'Ghana', 'quarantena', 'Children', 'HomeSchooling', 'Kids', 'Yashtantra', 'branding', 'WAVE3News', 'coronawirus', 'LogoDesign', 'groceryshopping', 'Disinfektan', 'pintumasuk', 'JawaTimur', 'wani', 'SalamSatuNyali', 'covid19ESP', 'covidー19espana', 'CoronavirusESP', 'InvestinPakistan', 'Telemedicine', 'ThanksHealthHeroes', 'ParentingInAPandemic', 'ColombiaUnida', 'ScandaledEtat', 'Tatatrusts', 'InternationalOperaChoir', 'Opera', 'Alzheimers', 'dementia', 'BLTBangkok', 'ท่องเที่ยวไทย', 'นักท่องเที่ยวต่างชาติ', 'NEWS', 'lifestyle', '2A', 'ScandaleSanitaire', 'advertising', 'DigitalMarketing', 'MentalHealthPH', 'EssentialServices', 'Firsttestingkit', 'mylab', 'IndiaFightsCornona', '21daysLockdownIndia', 'CaronaPendamic', 'NEGM20', 'HayatEveSığmıyor', 'Municipales2020', 'assesseurs', 'CoronaFreePakistan', 'TrumpsInvoluntaryManslaughter', 'TrumpCausedThis', 'SouthAfricaCares', 'travelalert', 'AmericanGenocide', 'shutdownflorida', 'DeSantisFail', 'hurricaneseason', 'الاعلام_الاقتصادي', 'اقتصاد', 'اليمن', 'SEMC', 'UnreliableFeds', 'ChildSupport', 'MensRights', 'donate', 'Switzerland', 'InfectiousDisease', 'WebDesign', 'SaturdayVibes', 'AppDevelopement', 'Printing', 'FelizSábado', 'Supplies', 'Restock', 'BwcDeals', 'workplacesafety', '25thAmendmentNow', 'Kaboul', 'shamelessairtel', 'harrasment', 'satchat', 'AfricaResponds', '730AM', 'UpadateCoronaVirus', 'CoronaIndonesia', 'PutusRantaiCovid19', 'insidesport', 'sportsbusinessnews', 'sakshisingh', 'MSDhoni', 'trending', 'trustissues', 'lanz', 'ayudadigitalcovid19', 'EconomíaYMás', 'laculturaincasaKIDS', 'LACULTURAINCASA', 'bandi', 'airlines', '2a', 'Nigerians', 'NigeriaNews', 'akure', 'EmekaOfforDonation', 'nasa', 'StayHomeWithFiesta', 'Lagos', 'cafeweltschmerz', 'IndiaComeTogether', 'global', 'employment', 'CoronavirusUSA', 'boojahideen', 'UnidosLoHacemos', 'TrabajandoPorPanamá', 'fuckdonaldtrump', 'ripdemocracy', 'unidospelavida', 'fibrosecística', 'toemcasa', 'symptomtracker', 'data', 'OANN', 'Foxnews', 'gop', 'shallnotbeinfringed', 'bigluau', 'CULTURA', 'Reynosa', 'CoronavirusMask', 'precautions', 'COVID19indiaupdate', 'CoronaParty', 'COVID19de', 'CoronaVirusPandemie', 'Nigéria', '48SaatHiçÇıkma', 'CoronaSL', 'Coronavirusinsrilanka', 'CoronaOutbreak', 'COVID19SL', 'WWE', 'bigigloo', 'AEW', 'WrestleMania', 'Contagios', 'NoticieroVenevision', 'Venevision', 'stichtsevecht', 'Britain', 'Singapore', 'Covid2019', 'correístas', 'puraboca', 'boogaloo', 'ingrahamangle', 'sgp', 'pray4USA', 'musicengineer', 'compras', 'shopping', 'Wikileaks', 'JulianAssange', 'FreeJulianAssangeCallTeam', 'coronavirüsü', 'tommacdonald', 'andrewscheps', 'musician', 'musicproducer', 'musicstudios', 'musicproductions', 'challangeaccepted', 'ReparationsNow', 'who', 'nigeria', 'LockdownIreland', 'Coranatuerkiye', 'vaka1529', 'COVID20', 'Vaka1872', 'EvdekalBilecik', 'AcilOHAL', 'CoronaVirusDE', 'ALLENATIACASA', 'allenatiacasaKIDS', 'saintvalentines', 'relationshipgoals', 'Repatriacion', 'ImamOfPeace', 'BLM', 'BlackTwitterMovement', 'BlackTwitter', 'Melanin', 'AfricanAmerican', 'AfricanAmericans', 'blacktwitterlive', 'BlackSupermacy', 'CoronaAlert', 'andbiscuitsbecauseweveranout', 'forschung', 'RFID', 'workingfromhome', 'grocery', 'outbreak', 'pauses', 'pickup', 'plans', 'Target', 'TechCrunch', 'COVID19testing', 'BuckeyeNation', 'Buckeyes', 'InThisTogetherOhio', 'ADA', 'engineering', 'home', 'work', 'FelizViernes', 'Tg2Rai', 'covidmaternity', 'LIPI', 'LawanCovid19', 'junkstatus', 'IDTwitter', 'SobiraniaSanitària', 'classecontraclasse', 'HeroesWearWhiteCoats', 'PPENow', 'Estevirusloparamosunidos', 'Cuantitativa', 'CoVid19chile', 'ebola', 'FreePalestine', 'carcere', 'IsraeliCrime', 'GobiernoDeInutiles', 'FeinaActiva', 'SOC', 'order', 'ProtectRTHK', 'QueMiserables', 'Revolución', 'RaúlCastro', 'CuarentenaPositiva', 'CovidTesting', 'policia', 'SputnikBreaking', 'MAGAMasochism', 'NPsLead', 'fuckracism', 'Islamabad', 'BunnyStaysHome', 'HechosNoPalabras', 'Virus', 'ShowbaziNahiKaam', 'COVIDON', 'Stop', 'TempodellaGentilezza', 'bbcqt', 'COVIDIOTS', 'TrumpCrimeFamily', 'cnp', 'NoAliberarDelincuentes1Linea', '1LineaDelincuentes', 'CitizensAboveCitizenship', 'inthebubble', '7NEWS', 'UnidasPandemias', 'andratuttobene', 'Lifesaver', 'Gratitude', 'OneMaimonides', 'policianacional', 'SupBaleares', 'analisis', 'JudicaturaEnCasa', 'coveringcovid', 'covidusa', 'OdishaNeedsYou', 'IPledgeToContribute', 'LetsFightCorona', 'الدوحة', 'أعيدوا_العالقين_البحرينيين', 'ElValorDeLoPúblico', 'HomeLeg', 'WeAreBFC', 'RoomForMore', 'Patriot', 'Discrimination', 'Handicap', 'CoronavirusSouthAfrica', 'QuedenseEnCasa', 'coronaviruske', 'stage3', 'IoT', 'VirtualConference', 'GETConnected2020', 'covik19', 'Oshodi', 'lagoslockdown', 'Lagosmarket', 'Sanwoolu', 'Dominos', 'ChinaLiesPeopleDie', 'ImperialCollege', 'CoronavírusNoBrasil', 'FiqueEmCasa', 'OBrasilTemQuePararBolsonaro', 'FuerzaArgentina', 'Shenzhen', 'StayAwareStaySafe', 'wtpTEAM', 'cegahcorona', 'viruscorona', 'WokersFirst', 'NFLCombine', 'NFLDraft', 'UCI', 'KeepWaterOn', 'MakeWaterAffordable', 'बिहार_सरकार', 'stayhomechallenge', 'UnitedKingdom', 'Deutschland', 'challenge', 'TodoSaldráBien', 'coronavirusinIndia', 'LadengeCoronaSe', 'Faktenfuchs', 'CENSURA', 'contagi', 'Ottcity', 'EverydayHeroes', 'Raoult_didier', 'Valladolid', 'engineer', 'SlowtheSpread', 'Yemenis', 'BBCYourQuestions', 'Sverige', 'Tabaquismo', 'conronavirus', 'Biélorussie', 'physicians', 'ItsInOurHands', 'Italien', 'Ue', 'Allemagne', 'foutagedegueule', 'NuemoniaAtipica', 'n1bih', 'coronavirusRTS', 'AlbertoEnLaTVPública', 'BourdinDirect', 'pallicovid', 'hpm', 'TrumptheWorstPresidentEVER', 'retail', 'LASD', 'SheriffV', 'whatisnewyork', 'LaSalleEnCasa', 'LaSalle', 'Freiheit', 'mjerezabrane', 'RememberKatrina', 'customers', 'twitter', 'Savini', 'POTUS', 'PANDEMIC', 'CubanCrisis', 'WetMarket', 'Support', 'Teacher', 'Author', 'RejoiceAfterRejection', 'keep', 'protecting', 'mapoli', 'chs', 'bospoli', 'breaking', 'Algeria', 'OHpol', 'KSA', 'الحالات_اليوم', 'خليك_ببيتك_وانشد_لوطنك', 'ドイツビール', 'iorestoacasa', 'イタリア', 'LEO', 'realestate', 'StayAtHomeSA', 'Tourism', 'PoC', 'NeverBiden', 'ohio', 'frontlineOH', 'ClimateChange', 'ClimateChangeIsReal', 'stayathomeNigerians', 'WednesdayMotivation', 'lockdown21days', 'BelieveWomen', 'DemDebate', 'DropOutBiden', 'IBelieveTara', 'MeToo', 'TimesUpBiden', 'BlackExcellence', 'TaraReade', 'ThankYouBernie', 'NotMeUs', 'GulfCoast', 'Covid19Malaysia', 'Malaysia', 'อยู่บ้านหยุดเชื้อเพื่อชาติ', 'CoronaRacist', 'kontamineeldivenleriyereatma', 'saygisizyurttaslar', 'cokayip', 'Ridge', 'ParaguaySolidario', 'COVID2019India', 'CoronaVirusUpdates', 'CoronaInPakistan', 'ifrc', 'LandRover', 'AboveandBeyond', 'plaquenil', 'NewVisionPodcast', 'AamirLiaquat', 'contribute', 'WWG1WGAWORLDWIDE', 'WWG1GWA', 'RoxhamRoad', 'covid19Canada', 'JammuAndKashmir', 'IndianArmyFightsCorona', 'WhatsApp', 'Skype', 'CovidLockdown', 'BailAssangeUK', 'EvacuateAssangeOZ', 'DontKillAssangeUSA', 'Noticias', 'Ultimasnoticias', 'Jornalismo', 'PiatãFM', 'RadiodaGente', 'FFCRA', 'DisabilityRights']\n",
      "[2816, 1526, 620, 266, 172, 166, 137, 84, 82, 79, 79, 73, 61, 56, 50, 50, 45, 41, 39, 38, 37, 37, 35, 34, 30, 29, 28, 28, 28, 28, 28, 27, 26, 25, 24, 23, 23, 23, 23, 23, 23, 23, 22, 21, 21, 21, 20, 19, 19, 19, 18, 18, 18, 18, 18, 18, 18, 17, 17, 16, 16, 16, 15, 15, 15, 14, 14, 14, 14, 14, 14, 14, 13, 13, 13, 13, 13, 13, 13, 13, 12, 12, 12, 12, 12, 11, 11, 11, 11, 11, 11, 11, 11, 10, 10, 10, 10, 10, 10, 10, 10, 10, 9, 9, 9, 9, 9, 9, 9, 9, 9, 9, 9, 9, 9, 9, 8, 8, 8, 8, 8, 8, 8, 8, 8, 8, 8, 8, 8, 8, 8, 8, 8, 8, 8, 8, 8, 8, 8, 8, 8, 8, 8, 7, 7, 7, 7, 7, 7, 7, 7, 7, 7, 7, 7, 7, 7, 7, 7, 7, 7, 7, 7, 7, 7, 7, 6, 6, 6, 6, 6, 6, 6, 6, 6, 6, 6, 6, 6, 6, 6, 6, 6, 6, 6, 6, 6, 6, 6, 6, 6, 6, 6, 6, 6, 6, 6, 6, 6, 6, 6, 6, 6, 6, 6, 6, 6, 6, 6, 6, 6, 6, 6, 6, 6, 6, 6, 6, 6, 6, 6, 6, 6, 6, 6, 6, 6, 5, 5, 5, 5, 5, 5, 5, 5, 5, 5, 5, 5, 5, 5, 5, 5, 5, 5, 5, 5, 5, 5, 5, 5, 5, 5, 5, 5, 5, 5, 5, 5, 5, 5, 5, 5, 5, 5, 5, 5, 5, 5, 5, 5, 5, 5, 5, 5, 5, 5, 5, 5, 5, 5, 5, 5, 5, 5, 5, 5, 5, 5, 5, 5, 5, 5, 5, 5, 5, 5, 5, 5, 5, 5, 5, 5, 4, 4, 4, 4, 4, 4, 4, 4, 4, 4, 4, 4, 4, 4, 4, 4, 4, 4, 4, 4, 4, 4, 4, 4, 4, 4, 4, 4, 4, 4, 4, 4, 4, 4, 4, 4, 4, 4, 4, 4, 4, 4, 4, 4, 4, 4, 4, 4, 4, 4, 4, 4, 4, 4, 4, 4, 4, 4, 4, 4, 4, 4, 4, 4, 4, 4, 4, 4, 4, 4, 4, 4, 4, 4, 4, 4, 4, 4, 4, 4, 4, 4, 4, 4, 4, 4, 4, 4, 4, 4, 4, 4, 4, 4, 4, 4, 4, 4, 3, 3, 3, 3, 3, 3, 3, 3, 3, 3, 3, 3, 3, 3, 3, 3, 3, 3, 3, 3, 3, 3, 3, 3, 3, 3, 3, 3, 3, 3, 3, 3, 3, 3, 3, 3, 3, 3, 3, 3, 3, 3, 3, 3, 3, 3, 3, 3, 3, 3, 3, 3, 3, 3, 3, 3, 3, 3, 3, 3, 3, 3, 3, 3, 3, 3, 3, 3, 3, 3, 3, 3, 3, 3, 3, 3, 3, 3, 3, 3, 3, 3, 3, 3, 3, 3, 3, 3, 3, 3, 3, 3, 3, 3, 3, 3, 3, 3, 3, 3, 3, 3, 3, 3, 3, 3, 3, 3, 3, 3, 3, 3, 3, 3, 3, 3, 3, 3, 3, 3, 3, 3, 3, 3, 3, 3, 3, 3, 3, 3, 3, 3, 3, 3, 3, 3, 3, 3, 3, 3, 3, 3, 3, 3, 3, 3, 3, 3, 3, 3, 3, 3, 3, 3, 3, 3, 3, 3, 3, 3, 3, 3, 3, 3, 3, 3, 3, 3, 3, 3, 3, 3, 3, 3, 3, 3, 3, 3, 3, 3, 3, 3, 3, 3, 3, 3, 3, 3, 3, 3, 3, 3, 3, 3, 3, 3, 3, 3, 3, 3, 3, 3, 3, 3, 3, 3, 3, 3, 3, 3, 3, 3, 3, 3, 3, 3, 3, 3, 3, 3, 3, 3, 3, 3, 3, 3, 3, 3, 3, 3, 3, 3, 3, 3, 3, 3, 3, 3, 3, 3, 3, 3, 3, 3, 3, 3, 3, 3, 3, 3, 3, 3, 3, 3, 3, 3, 3, 3, 3, 3, 3, 3, 3, 3, 3, 3, 3, 3, 3, 3, 3, 3, 3, 3, 3, 3, 3, 3, 3, 3, 3, 3, 3, 3, 3, 3, 3, 3, 3, 3, 3, 3, 3, 3, 3, 3, 3, 3, 3, 3, 3, 3, 3, 3, 3, 3, 3, 3, 3, 3, 3, 3, 3, 3, 3, 3, 3, 3, 3, 3, 3, 3, 3, 3, 3, 3, 3, 3, 3, 3, 3, 3, 3, 3, 3, 3, 3, 3, 3, 3, 3, 3, 3, 3, 3, 3, 3, 3, 3, 3, 3, 3, 3, 3, 3, 3, 3, 3, 2, 2, 2, 2, 2, 2, 2, 2, 2, 2, 2, 2, 2, 2, 2, 2, 2, 2, 2, 2, 2, 2, 2, 2, 2, 2, 2, 2, 2, 2, 2, 2, 2, 2, 2, 2, 2, 2, 2, 2, 2, 2, 2, 2, 2, 2, 2, 2, 2, 2, 2, 2, 2, 2, 2, 2, 2, 2, 2, 2, 2, 2, 2, 2, 2, 2, 2, 2, 2, 2, 2, 2, 2, 2, 2, 2, 2, 2, 2, 2, 2, 2, 2, 2, 2, 2, 2, 2, 2, 2, 2, 2, 2, 2, 2, 2, 2, 2, 2, 2, 2, 2, 2, 2, 2, 2, 2, 2, 2, 2, 2, 2, 2, 2, 2, 2, 2, 2, 2, 2, 2, 2, 2, 2, 2, 2, 2, 2, 2, 2, 2, 2, 2, 2, 2, 2, 2, 2, 2, 2, 2, 2, 2, 2, 2, 2, 2, 2, 2, 2, 2, 2, 2, 2, 2, 2, 2, 2, 2, 2, 2, 2, 2, 2, 2, 2, 2, 2, 2, 2, 2, 2, 2, 2, 2, 2, 2, 2, 2, 2, 2, 2, 2, 2, 2, 2, 2, 2, 2, 2, 2, 2, 2, 2, 2, 2, 2, 2, 2, 2, 2, 2, 2, 2, 2, 2, 2, 2, 2, 2, 2, 2, 2, 2, 2, 2, 2, 2, 2, 2, 2, 2, 2, 2, 2, 2, 2, 2, 2, 2, 2, 2, 2, 2, 2, 2, 2, 2, 2, 2, 2, 2, 2, 2, 2, 2, 2, 2, 2, 2, 2, 2, 2, 2, 2, 2, 2, 2, 2, 2, 2, 2, 2, 2, 2, 2, 2, 2, 2, 2, 2, 2, 2, 2, 2, 2, 2, 2, 2, 2, 2, 2, 2, 2, 2, 2, 2, 2, 2, 2, 2, 2, 2, 2, 2, 2, 2, 2, 2, 2, 2, 2, 2, 2, 2, 2, 2, 2, 2, 2, 2, 2, 2, 2, 2, 2, 2, 2, 2, 2, 2, 2, 2, 2, 2, 2, 2, 2, 2, 2, 2, 2, 2, 2, 2, 2, 2, 2, 2, 2, 2, 2, 2, 2, 2, 2, 2, 2, 2, 2, 2, 2, 2, 2, 2, 2, 2, 2, 2, 2, 2, 2, 2, 2, 2, 2, 2, 2, 2, 2, 2, 2, 2, 2, 2, 2, 2, 2, 2, 2, 2, 2, 2, 2, 2, 2, 2, 2, 2, 2, 2, 2, 2, 2, 2, 2, 2, 2, 2, 2, 2, 2, 2, 2, 2, 2, 2, 2, 2, 2, 2, 2, 2, 2, 2, 2, 2, 2, 2, 2, 2, 2, 2, 2, 2, 2, 2, 2, 2, 2, 2, 2, 2, 2, 2, 2, 2, 2, 2, 2, 2, 2, 2, 2, 2, 2, 2, 2, 2, 2, 2, 2, 2, 2, 2, 2, 2, 2, 2, 2, 2, 2, 2, 2, 2, 2, 2, 2, 2, 2, 2, 2, 2, 2, 2, 2, 2, 2, 2, 2, 2, 2, 2, 2, 2, 2, 2, 2, 2, 2, 2, 2, 2, 2, 2, 2, 2, 2, 1, 1, 1, 1, 1, 1, 1, 1, 1, 1, 1, 1, 1, 1, 1, 1, 1, 1, 1, 1, 1, 1, 1, 1, 1, 1, 1, 1, 1, 1, 1, 1, 1, 1, 1, 1, 1, 1, 1, 1, 1, 1, 1, 1, 1, 1, 1, 1, 1, 1, 1, 1, 1, 1, 1, 1, 1, 1, 1, 1, 1, 1, 1, 1, 1, 1, 1, 1, 1, 1, 1, 1, 1, 1, 1, 1, 1, 1, 1, 1, 1, 1, 1, 1, 1, 1, 1, 1, 1, 1, 1, 1, 1, 1, 1, 1, 1, 1, 1, 1, 1, 1, 1, 1, 1, 1, 1, 1, 1, 1, 1, 1, 1, 1, 1, 1, 1, 1, 1, 1, 1, 1, 1, 1, 1, 1, 1, 1, 1, 1, 1, 1, 1, 1, 1, 1, 1, 1, 1, 1, 1, 1, 1, 1, 1, 1, 1, 1, 1, 1, 1, 1, 1, 1, 1, 1, 1, 1, 1, 1, 1, 1, 1, 1, 1, 1, 1, 1, 1, 1, 1, 1, 1, 1, 1, 1, 1, 1, 1, 1, 1, 1, 1, 1, 1, 1, 1, 1, 1, 1, 1, 1, 1, 1, 1, 1, 1, 1, 1, 1, 1, 1, 1, 1, 1, 1, 1, 1, 1, 1, 1, 1, 1, 1, 1, 1, 1, 1, 1, 1, 1, 1, 1, 1, 1, 1, 1, 1, 1, 1, 1, 1, 1, 1, 1, 1, 1, 1, 1, 1, 1, 1, 1, 1, 1, 1, 1, 1, 1, 1, 1, 1, 1, 1, 1, 1, 1, 1, 1, 1, 1, 1, 1, 1, 1, 1, 1, 1, 1, 1, 1, 1, 1, 1, 1, 1, 1, 1, 1, 1, 1, 1, 1, 1, 1, 1, 1, 1, 1, 1, 1, 1, 1, 1, 1, 1, 1, 1, 1, 1, 1, 1, 1, 1, 1, 1, 1, 1, 1, 1, 1, 1, 1, 1, 1, 1, 1, 1, 1, 1, 1, 1, 1, 1, 1, 1, 1, 1, 1, 1, 1, 1, 1, 1, 1, 1, 1, 1, 1, 1, 1, 1, 1, 1, 1, 1, 1, 1, 1, 1, 1, 1, 1, 1, 1, 1, 1, 1, 1, 1, 1, 1, 1, 1, 1, 1, 1, 1, 1, 1, 1, 1, 1, 1, 1, 1, 1, 1, 1, 1, 1, 1, 1, 1, 1, 1, 1, 1, 1, 1, 1, 1, 1, 1, 1, 1, 1, 1, 1, 1, 1, 1, 1, 1, 1, 1, 1, 1, 1, 1, 1, 1, 1, 1, 1, 1, 1, 1, 1, 1, 1, 1, 1, 1, 1, 1, 1, 1, 1, 1, 1, 1, 1, 1, 1, 1, 1, 1, 1, 1, 1, 1, 1, 1, 1, 1, 1, 1, 1, 1, 1, 1, 1, 1, 1, 1, 1, 1, 1, 1, 1, 1, 1, 1, 1, 1, 1, 1, 1, 1, 1, 1, 1, 1, 1, 1, 1, 1, 1, 1, 1, 1, 1, 1, 1, 1, 1, 1, 1, 1, 1, 1, 1, 1, 1, 1, 1, 1, 1, 1, 1, 1, 1, 1, 1, 1, 1, 1, 1, 1, 1, 1, 1, 1, 1, 1, 1, 1, 1, 1, 1, 1, 1, 1, 1, 1, 1, 1, 1, 1, 1, 1, 1, 1, 1, 1, 1, 1, 1, 1, 1, 1, 1, 1, 1, 1, 1, 1, 1, 1, 1, 1, 1, 1, 1, 1, 1, 1, 1, 1, 1, 1, 1, 1, 1, 1, 1, 1, 1, 1, 1, 1, 1, 1, 1, 1, 1, 1, 1, 1, 1, 1, 1, 1, 1, 1, 1, 1, 1, 1, 1, 1, 1, 1, 1, 1, 1, 1, 1, 1, 1, 1, 1, 1, 1, 1, 1, 1, 1, 1, 1, 1, 1, 1, 1, 1, 1, 1, 1, 1, 1, 1, 1, 1, 1, 1, 1, 1, 1, 1, 1, 1, 1, 1, 1, 1, 1, 1, 1, 1, 1, 1, 1, 1, 1, 1, 1, 1, 1, 1, 1, 1, 1, 1, 1, 1, 1, 1, 1, 1, 1, 1, 1, 1, 1, 1, 1, 1, 1, 1, 1, 1, 1, 1, 1, 1, 1, 1, 1, 1, 1, 1, 1, 1, 1, 1, 1, 1, 1, 1, 1, 1, 1, 1, 1, 1, 1, 1, 1, 1, 1, 1, 1, 1, 1, 1, 1, 1, 1, 1, 1, 1, 1, 1, 1, 1, 1, 1, 1, 1, 1, 1, 1, 1, 1, 1, 1, 1, 1, 1, 1, 1, 1, 1, 1, 1, 1, 1, 1, 1, 1, 1, 1, 1, 1, 1, 1, 1, 1, 1, 1, 1, 1, 1, 1, 1, 1, 1, 1, 1, 1, 1, 1, 1, 1, 1, 1, 1, 1, 1, 1, 1, 1, 1, 1, 1, 1, 1, 1, 1, 1, 1, 1, 1, 1, 1, 1, 1, 1, 1, 1, 1, 1, 1, 1, 1, 1, 1, 1, 1, 1, 1, 1, 1, 1, 1, 1, 1, 1, 1, 1, 1, 1, 1, 1, 1, 1, 1, 1, 1, 1, 1, 1, 1, 1, 1, 1, 1, 1, 1, 1, 1, 1, 1, 1, 1, 1, 1, 1, 1, 1, 1, 1, 1, 1, 1, 1, 1, 1, 1, 1, 1, 1, 1, 1, 1, 1, 1, 1, 1, 1, 1, 1, 1, 1, 1, 1, 1, 1, 1, 1, 1, 1, 1, 1, 1, 1, 1, 1, 1, 1, 1, 1, 1, 1, 1, 1, 1, 1, 1, 1, 1, 1, 1, 1, 1, 1, 1, 1, 1, 1, 1, 1, 1, 1, 1, 1, 1, 1, 1, 1, 1, 1, 1, 1, 1, 1, 1, 1, 1, 1, 1, 1, 1, 1, 1, 1, 1, 1, 1, 1, 1, 1, 1, 1, 1, 1, 1, 1, 1, 1, 1, 1, 1, 1, 1, 1, 1, 1, 1, 1, 1, 1, 1, 1, 1, 1, 1, 1, 1, 1, 1, 1, 1, 1, 1, 1, 1, 1, 1, 1, 1, 1, 1, 1, 1, 1, 1, 1, 1, 1, 1, 1, 1, 1, 1, 1, 1, 1, 1, 1, 1, 1, 1, 1, 1, 1, 1, 1, 1, 1, 1, 1, 1, 1, 1, 1, 1, 1, 1, 1, 1, 1, 1, 1, 1, 1, 1, 1, 1, 1, 1, 1, 1, 1, 1, 1, 1, 1, 1, 1, 1, 1, 1, 1, 1, 1, 1, 1, 1, 1, 1, 1, 1, 1]\n"
     ]
    }
   ],
   "source": [
    "import numpy\n",
    "\n",
    "list_hashtags = []\n",
    "\n",
    "\n",
    "docs1 = list(tweets_h.find({'entities.hashtags.text': {\"$exists\": True}}))\n",
    "\n",
    "for doc in docs1:\n",
    "    for i in range(0, len(doc['entities']['hashtags'])):\n",
    "        #print(\"\\n\",doc['entities']['hashtags'][i]['text'])\n",
    "        list_hashtags.append(doc['entities']['hashtags'][i]['text'])\n",
    "        \n",
    "docs2 = list(tweets_h.find({'extended_tweet.entities.hashtags.text': {\"$exists\": True}}))\n",
    "\n",
    "for doc in docs2:\n",
    "    for i in range(0, len(doc['extended_tweet']['entities']['hashtags'])):\n",
    "        list_hashtags.append(doc['extended_tweet']['entities']['hashtags'][i]['text'])\n",
    "        \n",
    "docs3 = list(tweets_h.find({'quoted_status.entities.hashtags.text': {\"$exists\": True}}))\n",
    "\n",
    "for doc in docs3:\n",
    "    for i in range(0, len(doc['quoted_status']['entities']['hashtags'])):\n",
    "        list_hashtags.append(doc['quoted_status']['entities']['hashtags'][i]['text'])\n",
    " \n",
    "docs4 = list(tweets_h.find({'quoted_status.extended_tweet.entities.hashtags.text': {\"$exists\": True}}))\n",
    "\n",
    "for doc in docs4:\n",
    "    for i in range(0, len(doc['quoted_status']['extended_tweet']['entities']['hashtags'])):\n",
    "        list_hashtags.append(doc['quoted_status']['extended_tweet']['entities']['hashtags'][i]['text'])\n",
    "\n",
    "docs5 = list(tweets_h.find({'retweeted_status.entities.hashtags.text': {\"$exists\": True}}))\n",
    "\n",
    "for doc in docs5:\n",
    "    for i in range(0, len(doc['retweeted_status']['entities']['hashtags'])):\n",
    "        list_hashtags.append(doc['retweeted_status']['entities']['hashtags'][i]['text'])\n",
    " \n",
    "docs6 = list(tweets_h.find({'retweeted_status.extended_tweet.entities.hashtags.text': {\"$exists\": True}}))\n",
    "\n",
    "for doc in docs6:\n",
    "    for i in range(0, len(doc['retweeted_status']['extended_tweet']['entities']['hashtags'])):\n",
    "        list_hashtags.append(doc['retweeted_status']['extended_tweet']['entities']['hashtags'][i]['text'])\n",
    "\n",
    "l = len(list_hashtags)\n",
    "c = 0\n",
    "hashtags = [];\n",
    "count = [];\n",
    "\n",
    "while l > 0:\n",
    "    hashtag = list_hashtags[0]\n",
    "    \n",
    "    hashtags.append(hashtag)\n",
    "    \n",
    "    while True:\n",
    "        try:\n",
    "            list_hashtags.remove(hashtag)\n",
    "        except ValueError:\n",
    "            break\n",
    "    \n",
    "    count.append(l - len(list_hashtags))\n",
    "\n",
    "    l = len(list_hashtags)\n",
    "        \n",
    "\n",
    "sorted_arg = numpy.argsort(count)\n",
    "sorted_arg = sorted_arg[::-1]\n",
    "sorted_hashtags = []\n",
    "sorted_count = []\n",
    "for i in sorted_arg:\n",
    "    sorted_hashtags.append(hashtags[i])\n",
    "    sorted_count.append(count[i])\n",
    "    \n",
    "print(sorted_hashtags)\n",
    "print(sorted_count)"
   ]
  },
  {
   "cell_type": "markdown",
   "metadata": {},
   "source": [
    "Sample2: finding 20 most frequent hashtags\n",
    "\n",
    "To do that:\n",
    "- we first save all the hashtags in an array ( I took all the hashtags from the tweets and also from the retweet field and quoted field). \n",
    "- Then we start from the first hashtag and count the number of the same hashtag through the whole array. We also remove all the hashtags that were the same as the first one. \n",
    "- Then we go to the next hashtag and continue it until we reach the end of the array\n",
    "- At the end we sort the hashtags based on their frequency"
   ]
  },
  {
   "cell_type": "code",
   "execution_count": 9,
   "metadata": {},
   "outputs": [
    {
     "name": "stdout",
     "output_type": "stream",
     "text": [
      "['CoronavirusDelCastigoMinore', 'COVID19', 'coronavirus', 'Covid_19', 'covid19', 'stayhome', 'stayathome', 'Coronavirus', 'CoronavirusOutbreak', 'RestezChezVous', 'Coronakrise', 'Corona', 'switzerland', 'confinement', 'Confinementjour12', 'beautiful', 'Germany', 'horizon', 'love', 'TwitchStreamAid', 'architecture', 'CoronaLockdown', 'sunset', 'SocialDistancing', 'schweiz', 'wandern', 'alpok', 'berg', 'grünten', 'Burgberg', 'sonthofen', 'corona', 'alps', 'rettenberg', 'alpen', 'hegyek', 'covid_19', 'weather', 'bergen', 'photography', 'allgäu', 'wanderlust', 'nature', 'sky', 'chloroquine', 'stayhealthy', 'weekend', 'quarantine', 'Switzerland', 'EarthHour', 'art', 'SilverTopper', 'Nuhr', 'picoftheday', 'Europe', 'Italy', 'photooftheday', 'zurich', 'Suisse', 'photo', 'CoronaInfoCH', 'restateacasa', 'perspective', 'solidarité', 'zuhausebleiben', 'TeamOM', 'wissenschaftstheorie', 'YoLoCiq', 'santé', 'COVIDー19', 'resterchezsoi', 'Cameroun', 'Covid19', 'Khaled_Drareni', 'running', 'Ditfurth', 'Weekday', 'StayAtHome', 'WFH', 'Lockdown', 'WalkingWorkout', 'Wolfsberg', 'staystrong', 'lake', 'StayAtHomeAndStaySafe', 'YoLoCiqTour', 'throwback', 'Travel', 'IFS', 'COVID2019italia', 'foodporn', 'alleswirdgut', 'yummy', 'elinetartistry', 'COVID2019', 'instagood', 'graubünden', 'water', 'lesch', 'zug', 'BahrainGP', 'CampingCar', 'allgäuliebe', 'oberallgäu', 'instapic', 'Ermatingen', 'wanderung', 'kirándulás', 'HarryPotter', 'حمام_منصوری', 'Macron', 'socialdistancing', 'FlattenTheCurve', 'iorestoacasa', '28Marzo', 'Vatican', 'food', 'ویروس_کرونا', 'allgäupower', 'bnw', 'Wubitt', 'TrackMyTour', 'TMT', 'Vagabondage', 'Raoult_didier', 'StrongerTogether', 'bayern', 'DoNotEaseSanctions', 'Outlander', 'reflection', 'India', 'ilturismosostienelitalia', 'trip', 'photographer', 'travel', 'WorldCupAtHome', 'IslamicRepublicVirus', 'AyatollahsSpreadCOVID19', 'Conte', 'horror', 'کرونا', 'allgäualps', 'NewYork', 'health', 'italy', 'COVID19france', 'montblanc', 'ägerisee', 'spreadlove', 'tree', 'golf', 'VEU', 'Draschkowitz', 'bliebdahoam', 'unterägeri', 'flattenthecurve', 'blue', '237bio', 'orange', 'austria', 'tiramisu', 'vorarlberg', '7️⃣', 'bregenz', 'ägeri', 'RoninZDojo', 'LaLigaSantanderFest', 'StayHome', 'cadarese', 'Renzi', 'bleibtgesund', 'schnappschuss', 'gemeinsamgegencorona', 'lakezug', 'silhouette', 'waves', 'pastry', 'espace', 'moulage', 'paques', 'Confinement', 'rstat', 'Confinementotal', 'commerces', 'davos', 'davosklosters', 'snapshot', 'pictures', 'picture', 'Widnau', 'CoronaPandemie', 'سقز', 'سیدجعفر_کریمی', 'Wolfsspitz', 'plantations', 'monpetitcoinvert', 'vacationdreams', 'reyandmila', 'jeepdog', 'jeepdogs', 'jeepindogs', 'jeepindog', 'milaandrey', 'solidarity', 'reanimation', 'rehabilitation', 'prättigau', 'saas', 'kirche', 'vorabend', 'einläuten', 'UK', 'zämegeits', 'خامنه\\u200cای_ویروس', 'sonntag', 'makeuprevolution', 'CoronaUpdate', 'tripandtrip', 'vacation', 'physiotherapie', 'myophysio', 'saturday', 'sweden', 'suiza', 'JonJones', 'tudor', 'shutters', 'window', 'anthropology', 'materialculture', 'shingle', 'SoldiersOfPeace', 'erlebnisberggolmmontafon', 'brother', 'together', 'quarantena', 'Suiza', 'bnwphotography', 'flowerart', 'patisserie', 'floweroninstagram', 'flower', 'pompiers', 'ChallengeSoutienJSP', 'artfilm', 'distribuzione', 'Ethereum', 'italystaystrong', 'NewMusic', 'TRS', 'JT', 'Kurdhevdudisopinin', 'useitup', 'MasquesaGaz', 'fiqueemcasa', 'contamination', 'wimhofmethod', 'امپراطوری_دروغ', 'jordan23', 'michaeljordan', 'michaeljordan23', 'basketballneverstops', 'stefanjaeggi', 'henenlotter', 'mybloodybanjo', 'dankbarkeit', 'coronaquarantine', 'EarthHour2020', 'Filme', 'Narcos', 'Bolsonaro', 'montebianco', 'AirPollution', 'ottoemezzo', 'Generalversammlungen', 'portraits', 'woman', 'killitbyfood', 'killitbywine', 'neverdown', 'homemaderavioli', 'tomatosauce', 'Movie', 'Burger', 'Fityard', 'ErnstPeterFischer', 'beauty', 'باريس', 'فرنسا', 'COVID', 'Rechtsextremisten', 'Lombardia', 'makeupaddict', 'pic', 'fitness', 'TheFunnyDanceShow', 'physicaldistancing', 'devinette', 'EmilyRatajkowski', 'EnVivo', 'instagram', 'espoir', 'ACNH', 'bayernmünchen', 'bayernmunich', 'bayernmunchen', 'VisitBavaria', 'Bayern', 'Bavaria', 'AoonTheTraveller', 'Traveller', 'unique', 'handmade', 'authorizedsouldealer', 'e57e', 'artist', 'BBC', 'hérosauxquotidien', 'Eurovision2020', 'Eurobonds', 'Europavirus', 'Krisenmanager', 'pantalonpattesdeph', 'peak70s', 'StopTryingToMakeFetchHappen', 'plusfortsensemble', '2emetier', 'Profconnectée', 'JTGsequedaencasa', 'cqwpxssb', 'SafeHandsChallenge', 'Thurgovia', 'ecolekimtaekwondofribourg', 'Politiker', 'Kanzler', 'Söder', 'teamoverpowered', 'European', 'overpowered', 'lockdown', 'srf', 'pugliasurf', 'yum', 'AnimalCrossingNewHorizons', 'CoronaLivestreamTour', 'andratuttobene', 'coronabodycrossfighters', 'DieHoffnungStirbtZuletzt', 'الجزائر', 'familie', 'essen', 'pasta', 'pics', 'zugersee', 'photos', 'Sentinel3', 'AXAims', 'Kanzleramtschef', 'StayHomeSaveLives', 'LeagueOfLegends', 'Weekend', 'صورة_ملف_شخصي_جديدة', 'mood', 'DarrickSG', 'thankyousomuchforalltheinformations', 'dick', 'فيروس_كورونا_المستجد', 'سويسرا', 'Copernicus', 'BleibenSieZuHause', 'endorphins', 'thecroonersessions', 'CombinationPrevention', 'Italie', 'EuropeanPopularityCup2020', 'rainfallrescue', 'Lineaverdelife', 'Delhi', 'COVID2019india', 'iltempodellagentilezza', 'Interventionsspirale', 'TheVoice', 'Joomla', 'GitHub', 'Endomondo', 'MyTwitterAnniversary', 'cuarentena', 'NgejamBarengCJ', 'KhameneiVirus', 'tschakkaaaa', 'staysavestayhome', 'eléiaoil', 'bestoliveoil', 'grill', 'focaccia', 'mirbliibeddihei', 'staysafe', 'suisse', 'MatteoRenzi', 'cover', 'DiRumahAja', 'covid19Suisse', 'coronavid19', 'EvdeKal', 'MineFreeWorld', 'FlyingHome', 'Mulhouse', 'onnoublierapas', 'Laponie', 'Liebe', 'DrrackSG', 'Och', 'Tata', 'waywaydownsouth', 'emptycovidlineup', 'EdouardPhilippe', 'brutalism', 'modern', 'hug', 'ig_piemonte', 'patio', 'cigar', 'barbecue', 'dieweltistbunt', 'zahnarzt', 'bergdoc', 'bergimschussental', 'purenature', 'Srij', 'design', 'amazingarchitecture', 'xiaomiredmi5', 'crodo', 'igverbania', 'hospital', 'ig_italy', 'igtravel', '運', 'tasty', 'bnw_demand', 'frames', 'dailypic', 'brienz', 'pietromarra', 'piemarr', 'railwaysondvd', 'lagrandeferrovia', 'RoninZ', 'coronavirusRTS', 'frenchbeer', 'bière', 'PSG', 'geneva', 'safe', 'bbcaq', 'NHS', 'win', 'HealthcareHeroes', 'HealthcareProviders', 'HealthcareWarriors', 'Healthcareworkers', 'Nurses', 'SerieA', 'Nantes', 'prison', 'AI', 'hcap', 'Deichmann', 'papa', 'precious', 'Victim', 'Assistance', 'NiceTryQuarantine', 'HouseBirthday', 'HouseParty', 'Medienmitteilung', 'Digitalisierung', 'Stadtparlaments', 'beer', 'miedo', 'GrosBeauf', 'SARS', 'filmisnotdead', 'Russia', 'ZDFwikipedia', 'paese', 'parassiti', 'littlesister', 'famousaroundthenhs', 'FamiliaPoppaea', 'teamounets', 'ableton', 'frühling', 'fruehling', 'spring', 'morphebabe', 'SpringTime', 'season', 'Sabine', 'Lothar', 'filmphotography', 'velvia', 'Rosatomflot', 'TourDePeilz', 'Covid19ch', 'Dancehall', 'scaviarcheologici', 'Roman', 'vesuvio', 'Quarantine', 'Peking', 'Dancehallreggae', 'hiphopreggae', 'Reggae', 'Since1988', 'selflove', 'DjPostmanGeneva', 'DjPostman', 'welovethesunshine', 'chiaio73', 'untiltomorrow', 'weekendvibes', 'naturelovers', 'gezond', 'selfisolation', 'bestfamily', 'cook', 'Alsace', 'TGV', 'QuedateEnCasa', 'Kontio', 'cuisiner', 'cuisine', 'musicproducer', 'beatmaker', 'isolate', 'gourmet', 'recette', 'friends', 'gourmetlife', 'faitmaison', 'Nordique', 'Schutzmasken', 'Algerie', 'nintendoswitch', 'endometriose', 'ArtLovers', 'FortniteBattleRoyale', 'naturelover', 'meinVorarlbrg', 'Vorarlberg', 'create', 'ninaempoderada', 'grillwetter', 'Cuarentena', 'skateathomechallenge', 'Hallenstadion', 'FakeNews', 'mtg', 'oldschool', 'FelizSabado', 'meditate', 'ravensburg', 'endogirl', 'enanula', 'tiktok', 'cave', 'woodworking', 'coronarvirusitalia', 'exhib', 'hairydevil_xxx', 'concorde', 'Jour12', 'CandidatosTop50', 'หลัวหยุนซี', 'DeFi', 'sport', 'ccastaner', 'komplet', 'LIVE', 'Doria38', 'noregrets', 'ไป๋ลู่Bailu', 'latecnología', 'KingdomS2', 'organizedparts', 'İnfazdaEsitlikİstiyoruz', 'mode', 'cristobalreyes', 'streetart', 'steißlingen', 'solotour', 'coronafuckoff', 'viagraboys', 'Thunersee', 'training2020', 'modele', 'saison2020', 'イタリア', 'Espérance', 'commerce', 'TechForGood', 'lolagodotendel', 'Besancon', 'AntiTrump', 'qpuc', 'break', 'familyday', 'dieweltdurcheineseifenblase', 'Lausanne', 'فعاليات_الحجر_المنزلي', 'selfie', 'mirexrd', 'monevolution', 'docschleenbecker', 'Lambs', 'Freaks', 'TimeWarp', 'Inspiration', 'NowWatching', 'coronaprogramm', 'wald', 'natur', 'coronavirusitalIa', 'lyon', 'index', 'bebe', 'enfant', 'adulte', 'face', 'visage', 'NonEssential', 'teufelskeller', 'evolution', 'brötle', 'WieErwartet', 'schlangenbrot', 'CoffeeLover', 'nohaydios', 'Libri', 'confettiwestern', 'balkon', 'whitefrontierbrewery', 'apéro', 'NoHomo', 'netflix', 'shaft', 'Schröder', 'Liberale', 'aperotime', 'StayAtHomeChallenge', 'libro', 'شهالحلاوه', 'personalizzato', 'personalizzati', 'IRISTV', 'perbambini', 'AllesWirdGut', 'محمد_عساف', 'occupation', 'pain', 'Europa', 'CiSalviamoDaSoli', 'DemissionnezVous', 'asimismoes', 'FiqueEmCasa', 'nintendo', 'Gofundme', 'considerate', 'afdschrumpft', 'livemusic', 'benstiller', 'codacons', 'stayhumble', 'FiquemEmCasa', 'wochenende', 'capaufgutdrauf', 'bavariancaps', 'نعدين', 'TravelingInSpirit', 'distancesociale', 'onrestealamaison', 'aafabi', 'comfortfood', 'mexicanfood', 'covid19Dominicana', 'bonappetit', 'ENJOYTHIS', 'prdeuropa', 'magnum', 'prdsuiza', 'SoutienBellamy', 'ponteflash', 'butterzopf', 'luc', 'EXCLUSIVE', 'QuarantineWeekend', 'adidas', 'Coworking', 'MoreThanAnOffice', 'OfficeSplitting', 'scheene', 'ClimateAction', 'zoolander', 'fedez', 'Warzone', 'Juve', 'worldwaterday', 'ProjectNewsbar', 'twitter', '12days', 'iloverassberries', 'takecare', 'agradeça', 'MIGROS', 'zwerfie', 'allebeobachtendieiss', 'สวีข่ายXukai', 'grateful', 'โจวตงหยูZhoudongyu', 'dankbar', 'XLM', 'Nigeria', 'fiveup', 'GoodNewsWorldwide', 'chillnachdemgrill', 'blibetgsund', 'eingläschenrumhilftauch', 'routerfence', 'RugbyShirtDaily', 'NOPLP', 'Osterhase', 'Wirtschaftswunder', 'virtual', 'cycling', 'fightcoronavirus', 'routertable', 'updates', 'optimiert', 'CodeVsCovid19', 'ghiandaie', 'geneve', 'Pape', 'Ellekappa', '1968kritik', 'مخالفه_منع_التجول_جريمه', 'Switch', 'mario', 'twOff', 'Homophobie', 'BalanceTonPrintemps', 'homepro', 'GoPro', 'Biketour', 'Üetliberg', 'Microsoft', 'eternantena', 'EricetRamzy', 'c', 'FCKCorona', 'saturdaywhitebread', 'NWO', 'FalseFlag', 'Verschwörung', 'Illuminati', 'DavidIcke', 'Madonna', 'Humor', 'Morals', 'connectyourhelp', 'Spain', 'survival', 'ドイツ空軍', 'Mon11PSGchallenge', '患者移送', 'closeup', 'ethereum', 'gdo', 'do', 'flower_daily', 'fadingbeauty', 'lensculture', 'artwork', 'magnumphotos', 'pipa', 'Nomepidanquecante', 'vergogna', 'skiing', 'snow', 'voralberg', 'meintraumtag', 'meinmontafon', 'regardlubrique', 'jensen', 'rayban', 'UE', 'mentalhealth', 'SocialDistanacing', 'itstimetochange', 'PLAGWIN', 'hamradio', 'hamr', 'classevirtuelle', 'elearning', 'englishclasses', 'pronote', 'nationaprenante', 'WhyAreYouWhite', 'MyspaceGirl', 'JuicyCouture', 'spreadlovenotgerms', 'huaweip30', 'huaweiphotography', 'huaweip30photography', 'schönheit', 'elisabethtessier', 'P3', 'MadeinFrance', 'washyourhands', 'basketballislife', 'chicagobulls', 'chicagobullsnation', 'bullsnation', 'followforfollowback', 'chrissyangliker', 'silviomaraini', 'patrikfuchs', 'bernduhde', 'juliachriste', 'leonardofinotti', 'natur_fotography', 'blumen', 'AviationTOUGH', 'natürlich', 'lookforward', 'bebacksoon', 'montain', 'view', 'viewfromthetop', 'viewfromflight', 'flightdeckview', 'piloteyes', 'pilot', 'die_natur_ist_schön', 'die_naturliebhaber', 'my_paradise', 'my_planet', 'the_earth', 'atembraubend', 'PhysicalActivity', 'worldtaekwondo', 'fight', 'BestCommunityintheWorld', 'kunst', 'SolidariteCOVID19', 'staySafe', 'قعدوا_في_بيوتكم', 'كورونا', 'Merktnix', 'FaschosRaus', 'afdverbotJETZT', 'michelleahye', 'allysonfelix', 'elainethompson', 'dafneschippers', 'eyeshadows', 'slayallday', 'slaytheday', 'StayConnected', 'volunteers', 'makeupguru', 'RedCrescent', 'wood', 'paper', 'textile', 'custom', 'bavarianalps', 'bavariagermany', 'bavarianmountainhound', 'visitbavaria', 'bavariaroamers', 'Spring2020', 'coronalife', 'droneoftheday', 'droneshots', 'dronephotography', 'RedCross', 'blending', 'makeupfanatic', 'taekwondoswiss', 'modelos', 'Auschwitz', 'COVID19gt', 'cov19', 'stayfuckinghome', 'projekt', 'CoronaFarce', 'enzensberger', 'fightcorona', 'StaySafeStayHome', 'nevergiveup', 'gaming', 'forthegamers', 'Nordlichter', 'taekwondo', 'ufc', 'famous', 'gracias', 'makeupgoal', 'BassboyAroundTheWorld', 'slayandblend', 'eyeshadowoftheday', 'morphe', 'makeuplover', 'mua', 'makeupjunkie', 'aspiringmua', 'selftaughtmua', 'datenight', 'maquillage', 'beauté', 'beautybay', 'revolutionPrList', 'TheList', 'morphebrushes', 'pipe', 'pipesmoker', 'canvas', 'pape', 'thicc', 'Klitoris', 'cancer', 'operated', 'sissypussy', 'fave', 'real', 'Vaticano', 'pipesmokingcommunity', 'PapaFrancesco', 'MalhonnêtetéIntellectuelle', 'IndulgenzaPlenaria', 'PiazzaSanPietro', 'transparenzstory', 'Earth', 'chloroquinepourtous', 'boyvagina', 'aphp', 'Sarajevo', 'Bergamo', 'Islam', 'gazzettaactive', 'ASSE', 'FCSM', 'socialbonding', 'whenloveisthekey', 'F12018', 'XboxShare', 'madonna', 'Thread', 'propagandalive', 'CORONAVIRUS', 'ausgangssperren', 'Hanau', 'JT20h', 'IlsSavaient', 'aaontop', 'Korona', 'CoronavirusEc', 'Team_Luftwaffe', 'FuerEuchGemeinsamStark', '7wData', 'Datawarehouse', 'rbm', 'zoom', 'MineAction', 'LandMineFree2025', 'StanTheMan', 'Birthday', 'ThankYou', 'AlwaysAParty', 'KeepingMyselfEntertained', 'Stadtrat', 'WuhanOutbreak', 'quarantinechallenge', 'MinaLima', 'TeamArmee', 'PPE', 'lineaverde', 'rai1', 'UnItaliaCheAiuta', 'jinfoch', 'HalükLevent', 'CanYaman', 'unitisempre', 'dayanismagunleri', 'ukrunchat', 'uktrichat', 'ukcyclechat', 'ukmtbchat', 'SafeHands', 'Responsabilité', 'doctors', 'LGBT', '48SaatHiçÇıkma', 'F1Rewind', 'francepaysdutiersmonde', 'nowaste', 'breakfastfordinner', 'hannerl70', 'wohnen', 'Haus', 'Wohnung', 'schönerwohnen', 'wohlfühlen', 'wohnsituation', 'Stadtratssitzungen', 'climbing', 'chamonix', 'womanpower', 'fashion', 'fashionblogger', 'Danke', 'Zurich', 'life', 'horrormovies', 'pipesmokersofinstagram', 'pipeporn', 'fumolentoitalia', 'coffe', 'kaffee', 'banjomovie', 'banjofilm', 'liamregan', 'SupportIndieFilm', 'troma', 'horrormovie', 'horrorfilm', 'refuseliam', 'horrorfilms', 'fangoria', 'style', 'loves', 'football', 'ehealth', 'weekender', 'video', 'apple', 'nike', 'physicaltherapy', 'graduation', 'success', 'PatrickStewart', 'huddsuni', 'coronaInfoCH', 'vaud', 'CoronaVirus', 'juttaditfurth', 'ASMonaco', 'Foot', 'electric', 'online', 'emotions', 'physiotherapy', 'thoughts', 'vibes', 'top', 'homemadeprosecco', 'valdobbiadene', 'Klassiker', 'Covid19India', 'ServiceBeforeSelf', 'wewilldefeatcorona', 'sabado', 'relax', 'chillout', 'likeforlikes', 'lovetrip', 'aroundtheworldpix', 'walls', 'stones', 'germaniaitalia', 'medsurf', 'kayaker', 'climber', 'paraglider', 'loraccontoaltg1', 'iorestocasa', 'theendisnear', 'surfing', 'ioniansurf', 'Milano', 'italiansurf', 'puglia', 'salento', 'surfinsalento', 'surfsalento', 'surfpuglia', 'surf', 'skier', 'mountainbiker', 'cyclist', 'trailrunner', 'lagoudale', 'schüblig', 'cervelas', 'yamasa', 'davidoffcigars', 'cigare', 'zigarren', 'puros', 'wall', 'loophole', 'SoSchuetzenwiruns', 'ARD', 'Inde', 'indoorplants', 'indoortraining', 'italyadventures', 'ioniansea', 'Diskriminierung', 'indonesian', 'singer', 'instavideo', 'traveling', 'travelphotography', 'Marketing', 'contentmarketing', 'Influencer', 'venezia', 'venicecanals', 'veniceitaly', 'venice', 'Italycovid19', 'discoverdior', 'sativaction', 'iorestoacasama', 'batak', 'vocals', 'laparoscopy', 'guitar', 'minimallyinvasive', 'altice', 'bfm', 'gilead', 'corruption', 'Muttertagseffekt', 'wtf', 'UnitedNations', 'PayYourInterns', 'Berman', 'duet', 'boys', 'guys', 'men', 'song', 'bièrefrançaise', 'krippen', 'kitas', 'teamderek', 'inseparables', 'kaliarniseskrima', 'kali', 'eskrima', 'escrima', 'arnis', 'fma', 'Spanien', 'stockkampf', 'stickfighting', 'budo', 'martialarts', 'EUresponse', 'brienzrothornbahn', 'brienzerrothorn', 'DernekeveDerve', 'SmackdownAB', 'interlaken', 'الوفيات', 'Bärlauch', 'drink', 'local', 'Inspired', 'Zaandam', 'Abfall', 'raoult', 'INSTINCT', 'luftdaten', 'airrohr', 'Connect2Earth', 'KoğustakiMucize', 'CanadaLockdown', 'AirQuality', 'افريل', 'svizzera', 'instadaily', 'China', 'fragole', 'strawberry', 'erbeeren', 'usa', 'moderat', 'SwissEUrelations', 'SolidaritéEuropéenne', 'contemporary', 'architecten', 'architect', 'arquitectura', 'instaarchitecture', 'concept', 'architettura', 'covidtracker', 'IPO', 'fraise', 'torte', 'antoniogasparphotography', 'tarte', 'insta', 'shapes', 'jj_blackwhite', 'shadow', 'bondage', 'customvideo', 'footfetish', 'drooling', 'droolingisthenewiloveyou', 'Palestine', 'Israel', 'finefood', 'bakery', 'cake', 'torta', 'Italia', 'unTemaAlGiorno', 'themaskedsoul', 'globegolferstayhomechallenge', 'instafood', 'safetyfirst', 'china', 'death', 'shotongopro', 'gopro', 'progolf', 'trickshot', 'CBD', 'recherche', 'science', 'contemporaryart', 'mixedmedia', 'shotoniphone', 'saasimprättigau', 'ssr', 'frenchfood', 'dessertlovers', 'dessert', 'pastrychef', 'color', 'all_shots', 'exposure', 'composition', 'focus', 'capture', 'moment', 'hdr', 'wirbleibenzuhause', 'selbstmitgefühl', 'selfcompassion', 'compassion', 'help', 'crisischic', 'oldpicturechallenge', 'soinssuitesreadaptation', 'france', 'pastelconté', 'cameroon', 'vorarlberghaeltzusammen', 'nurdieVEU', 'nhs', 'thankyounhs', 'bekind', 'germany', 'COVID19italia', 'isolation', 'WirBleibenZuhause', 'Annecy', 'COVID_19', 'Santé', 'Coronavirusfrance', 'maladie', 'CORONAVIRUSENFRANCE', 'belgokmer', 'STIAMOACASAAK', 'shelterdogsrock', 'assokappa', 'bardino', 'bardinomix', 'bardinolove', 'overlandingdogs', 'overlanddogs', 'fourleggedfriends', 'artcontemporain', 'dessins', 'PhysicalDistancing', 'Trailrunning', 'krestyll', 'زنجان', 'winter', 'dawn', 'light', 'gite', 'foret', 'qualite', 'mixology', 'dancehallamyeverything', 'DonTrotti', 'FreakyFriday', 'AncientRome', 'archeology', 'vesuv', 'archéologie', 'archäologie', 'rom', 'archaeology_lovers', 'followme', 'follow', 'urlaub', 'UrlaubFamiliaPoppaea', 'verdient', 'hiphop', 'djforlife', 'samen', 'LoveTheRiddim', 'passodigavia', 'hôpital', 'HUGcovid19', 'AIDS', 'fear', 'WICCI', 'rubyBakshiKhurdi', 'educationist', 'maskeauf', '严重急性呼吸道综合征冠状病毒', 'TogetherWeStand', 'push2', 'family', 'goodvibes', 'reggaesundays', 'staythefuckhome', 'blogger', 'allergie', 'gourmand', 'bistrot', 'kitchen', 'blog', 'mascarpone', 'poire', 'JeResteChezMoi', 'Colmar', 'Poitiers', 'OnOublieraPas', 'kontio', 'ecologie', 'bienetre', 'wellbeing', 'healthy', 'sante', 'foodlover', 'beerstagram', 'homesweethome', 'traveltheworldbystayinghome', 'nederlandseblogger', 'motivatie', 'motivated', 'instaphoto', 'heritagestation', 'baracuir', 'bardecuero', 'leatherbar', 'waxservice', 'depotvente', 'parasite', 'VidaEnCuarentena', 'epf', 'SocialDistancingNow', 'Liechtenstein', 'kalikuntao']\n",
      "[206, 99, 70, 22, 20, 16, 15, 14, 14, 12, 10, 10, 10, 9, 8, 8, 8, 8, 7, 7, 7, 7, 7, 7, 6, 6, 6, 6, 6, 6, 6, 6, 6, 6, 6, 6, 6, 6, 6, 6, 6, 6, 6, 6, 6, 6, 5, 5, 5, 5, 5, 5, 5, 5, 5, 5, 5, 5, 5, 5, 5, 4, 4, 4, 4, 4, 4, 4, 4, 4, 4, 4, 4, 4, 4, 4, 4, 4, 4, 4, 4, 4, 4, 4, 4, 4, 4, 4, 4, 4, 4, 4, 4, 4, 4, 4, 4, 4, 4, 4, 4, 3, 3, 3, 3, 3, 3, 3, 3, 3, 3, 3, 3, 3, 3, 3, 3, 3, 3, 3, 3, 3, 3, 3, 3, 3, 3, 3, 3, 3, 3, 3, 3, 3, 3, 3, 3, 3, 3, 3, 3, 3, 3, 3, 3, 3, 3, 2, 2, 2, 2, 2, 2, 2, 2, 2, 2, 2, 2, 2, 2, 2, 2, 2, 2, 2, 2, 2, 2, 2, 2, 2, 2, 2, 2, 2, 2, 2, 2, 2, 2, 2, 2, 2, 2, 2, 2, 2, 2, 2, 2, 2, 2, 2, 2, 2, 2, 2, 2, 2, 2, 2, 2, 2, 2, 2, 2, 2, 2, 2, 2, 2, 2, 2, 2, 2, 2, 2, 2, 2, 2, 2, 2, 2, 2, 2, 2, 2, 2, 2, 2, 2, 2, 2, 2, 2, 2, 2, 2, 2, 2, 2, 2, 2, 2, 2, 2, 2, 2, 2, 2, 2, 2, 2, 2, 2, 2, 2, 2, 2, 2, 2, 2, 2, 2, 2, 2, 2, 2, 2, 2, 2, 2, 2, 2, 2, 2, 2, 2, 2, 2, 2, 2, 2, 2, 2, 2, 2, 2, 2, 2, 2, 2, 2, 2, 2, 2, 2, 2, 2, 2, 2, 2, 2, 2, 2, 2, 2, 2, 2, 2, 2, 2, 2, 2, 2, 2, 2, 2, 2, 2, 2, 2, 2, 2, 2, 2, 2, 2, 2, 2, 2, 2, 2, 2, 2, 2, 2, 2, 2, 2, 2, 2, 2, 2, 2, 2, 2, 2, 2, 2, 2, 2, 2, 2, 2, 2, 2, 2, 2, 2, 2, 2, 2, 2, 2, 2, 2, 2, 2, 2, 2, 2, 2, 2, 2, 2, 2, 2, 2, 2, 2, 2, 2, 2, 2, 2, 2, 2, 2, 2, 2, 2, 2, 2, 2, 2, 2, 2, 2, 2, 2, 2, 2, 2, 2, 2, 2, 2, 2, 2, 2, 2, 2, 2, 2, 2, 2, 2, 2, 2, 2, 2, 2, 2, 2, 2, 2, 2, 2, 2, 2, 2, 2, 2, 2, 2, 2, 2, 2, 2, 2, 2, 2, 2, 2, 2, 2, 2, 2, 2, 2, 2, 2, 2, 2, 2, 2, 2, 2, 2, 2, 2, 2, 2, 2, 2, 2, 2, 2, 2, 2, 2, 2, 2, 2, 2, 2, 2, 2, 2, 2, 2, 2, 2, 2, 2, 2, 2, 2, 2, 2, 2, 2, 2, 2, 2, 2, 2, 2, 2, 2, 2, 2, 2, 2, 2, 2, 2, 2, 2, 2, 2, 2, 2, 2, 2, 2, 2, 2, 2, 2, 2, 2, 2, 2, 2, 2, 2, 2, 2, 2, 2, 2, 2, 2, 2, 2, 2, 2, 2, 2, 2, 2, 1, 1, 1, 1, 1, 1, 1, 1, 1, 1, 1, 1, 1, 1, 1, 1, 1, 1, 1, 1, 1, 1, 1, 1, 1, 1, 1, 1, 1, 1, 1, 1, 1, 1, 1, 1, 1, 1, 1, 1, 1, 1, 1, 1, 1, 1, 1, 1, 1, 1, 1, 1, 1, 1, 1, 1, 1, 1, 1, 1, 1, 1, 1, 1, 1, 1, 1, 1, 1, 1, 1, 1, 1, 1, 1, 1, 1, 1, 1, 1, 1, 1, 1, 1, 1, 1, 1, 1, 1, 1, 1, 1, 1, 1, 1, 1, 1, 1, 1, 1, 1, 1, 1, 1, 1, 1, 1, 1, 1, 1, 1, 1, 1, 1, 1, 1, 1, 1, 1, 1, 1, 1, 1, 1, 1, 1, 1, 1, 1, 1, 1, 1, 1, 1, 1, 1, 1, 1, 1, 1, 1, 1, 1, 1, 1, 1, 1, 1, 1, 1, 1, 1, 1, 1, 1, 1, 1, 1, 1, 1, 1, 1, 1, 1, 1, 1, 1, 1, 1, 1, 1, 1, 1, 1, 1, 1, 1, 1, 1, 1, 1, 1, 1, 1, 1, 1, 1, 1, 1, 1, 1, 1, 1, 1, 1, 1, 1, 1, 1, 1, 1, 1, 1, 1, 1, 1, 1, 1, 1, 1, 1, 1, 1, 1, 1, 1, 1, 1, 1, 1, 1, 1, 1, 1, 1, 1, 1, 1, 1, 1, 1, 1, 1, 1, 1, 1, 1, 1, 1, 1, 1, 1, 1, 1, 1, 1, 1, 1, 1, 1, 1, 1, 1, 1, 1, 1, 1, 1, 1, 1, 1, 1, 1, 1, 1, 1, 1, 1, 1, 1, 1, 1, 1, 1, 1, 1, 1, 1, 1, 1, 1, 1, 1, 1, 1, 1, 1, 1, 1, 1, 1, 1, 1, 1, 1, 1, 1, 1, 1, 1, 1, 1, 1, 1, 1, 1, 1, 1, 1, 1, 1, 1, 1, 1, 1, 1, 1, 1, 1, 1, 1, 1, 1, 1, 1, 1, 1, 1, 1, 1, 1, 1, 1, 1, 1, 1, 1, 1, 1, 1, 1, 1, 1, 1, 1, 1, 1, 1, 1, 1, 1, 1, 1, 1, 1, 1, 1, 1, 1, 1, 1, 1, 1, 1, 1, 1, 1, 1, 1, 1, 1, 1, 1, 1, 1, 1, 1, 1, 1, 1, 1, 1, 1, 1, 1, 1, 1, 1, 1, 1, 1, 1, 1, 1, 1, 1, 1, 1, 1, 1, 1, 1, 1, 1, 1, 1, 1, 1, 1, 1, 1, 1, 1, 1, 1, 1, 1, 1, 1, 1, 1, 1, 1, 1, 1, 1, 1, 1, 1, 1, 1, 1, 1, 1, 1, 1, 1, 1, 1, 1, 1, 1, 1, 1, 1, 1, 1, 1, 1, 1, 1, 1, 1, 1, 1, 1, 1, 1, 1, 1, 1, 1, 1, 1, 1, 1, 1, 1, 1, 1, 1, 1, 1, 1, 1, 1, 1, 1, 1, 1, 1, 1, 1, 1, 1, 1, 1, 1, 1, 1, 1, 1, 1, 1, 1, 1, 1, 1, 1, 1, 1, 1, 1, 1, 1, 1, 1, 1, 1, 1, 1, 1, 1, 1, 1, 1, 1, 1, 1, 1, 1, 1, 1, 1, 1, 1, 1, 1, 1, 1, 1, 1, 1, 1, 1, 1, 1, 1, 1, 1, 1, 1, 1, 1, 1, 1, 1, 1, 1, 1, 1, 1, 1, 1, 1, 1, 1, 1, 1, 1, 1, 1, 1, 1, 1, 1, 1, 1, 1, 1, 1, 1, 1, 1, 1, 1, 1, 1, 1, 1, 1, 1, 1, 1, 1, 1, 1, 1, 1, 1, 1, 1, 1, 1, 1, 1, 1, 1, 1, 1, 1, 1, 1, 1, 1, 1, 1, 1, 1, 1, 1, 1, 1, 1, 1, 1, 1, 1, 1, 1, 1, 1, 1, 1, 1, 1, 1, 1, 1, 1, 1, 1, 1, 1, 1, 1, 1, 1, 1, 1, 1, 1, 1, 1, 1, 1, 1, 1, 1, 1, 1, 1, 1, 1, 1, 1, 1, 1, 1, 1, 1, 1, 1, 1, 1, 1, 1, 1, 1, 1, 1, 1, 1, 1, 1, 1, 1, 1, 1, 1, 1, 1, 1, 1, 1, 1, 1, 1, 1, 1, 1, 1, 1, 1, 1, 1, 1, 1, 1, 1, 1, 1, 1, 1, 1, 1, 1, 1, 1, 1, 1, 1, 1, 1, 1, 1, 1, 1, 1, 1, 1, 1, 1, 1, 1, 1, 1, 1, 1, 1, 1, 1, 1, 1, 1, 1, 1, 1, 1, 1, 1, 1, 1, 1, 1, 1, 1, 1, 1, 1, 1, 1, 1, 1, 1, 1, 1, 1, 1, 1, 1, 1, 1, 1, 1, 1, 1, 1, 1, 1, 1, 1, 1, 1, 1, 1, 1, 1, 1, 1, 1, 1, 1, 1, 1, 1, 1, 1, 1, 1, 1, 1, 1, 1, 1, 1, 1, 1, 1, 1, 1, 1, 1, 1, 1, 1, 1, 1, 1, 1, 1, 1, 1, 1, 1, 1, 1, 1, 1, 1, 1, 1, 1, 1, 1, 1, 1, 1, 1, 1, 1, 1, 1, 1, 1, 1, 1, 1, 1, 1, 1]\n"
     ]
    }
   ],
   "source": [
    "import numpy\n",
    "\n",
    "list_hashtags = []\n",
    "\n",
    "\n",
    "docs1 = list(tweets_geo.find({'entities.hashtags.text': {\"$exists\": True}}))\n",
    "\n",
    "for doc in docs1:\n",
    "    for i in range(0, len(doc['entities']['hashtags'])):\n",
    "        #print(\"\\n\",doc['entities']['hashtags'][i]['text'])\n",
    "        list_hashtags.append(doc['entities']['hashtags'][i]['text'])\n",
    "        \n",
    "docs2 = list(tweets_geo.find({'extended_tweet.entities.hashtags.text': {\"$exists\": True}}))\n",
    "\n",
    "for doc in docs2:\n",
    "    for i in range(0, len(doc['extended_tweet']['entities']['hashtags'])):\n",
    "        list_hashtags.append(doc['extended_tweet']['entities']['hashtags'][i]['text'])\n",
    "        \n",
    "docs3 = list(tweets_geo.find({'quoted_status.entities.hashtags.text': {\"$exists\": True}}))\n",
    "\n",
    "for doc in docs3:\n",
    "    for i in range(0, len(doc['quoted_status']['entities']['hashtags'])):\n",
    "        list_hashtags.append(doc['quoted_status']['entities']['hashtags'][i]['text'])\n",
    " \n",
    "docs4 = list(tweets_geo.find({'quoted_status.extended_tweet.entities.hashtags.text': {\"$exists\": True}}))\n",
    "\n",
    "for doc in docs4:\n",
    "    for i in range(0, len(doc['quoted_status']['extended_tweet']['entities']['hashtags'])):\n",
    "        list_hashtags.append(doc['quoted_status']['extended_tweet']['entities']['hashtags'][i]['text'])\n",
    "\n",
    "docs5 = list(tweets_geo.find({'retweeted_status.entities.hashtags.text': {\"$exists\": True}}))\n",
    "\n",
    "for doc in docs5:\n",
    "    for i in range(0, len(doc['retweeted_status']['entities']['hashtags'])):\n",
    "        list_hashtags.append(doc['retweeted_status']['entities']['hashtags'][i]['text'])\n",
    " \n",
    "docs6 = list(tweets_geo.find({'retweeted_status.extended_tweet.entities.hashtags.text': {\"$exists\": True}}))\n",
    "\n",
    "for doc in docs6:\n",
    "    for i in range(0, len(doc['retweeted_status']['extended_tweet']['entities']['hashtags'])):\n",
    "        list_hashtags.append(doc['retweeted_status']['extended_tweet']['entities']['hashtags'][i]['text'])\n",
    "\n",
    "l = len(list_hashtags)\n",
    "c = 0\n",
    "hashtags = [];\n",
    "count = [];\n",
    "\n",
    "while l > 0:\n",
    "    hashtag = list_hashtags[0]\n",
    "    \n",
    "    hashtags.append(hashtag)\n",
    "    \n",
    "    while True:\n",
    "        try:\n",
    "            list_hashtags.remove(hashtag)\n",
    "        except ValueError:\n",
    "            break\n",
    "    \n",
    "    count.append(l - len(list_hashtags))\n",
    "\n",
    "    l = len(list_hashtags)\n",
    "        \n",
    "\n",
    "sorted_arg = numpy.argsort(count)\n",
    "sorted_arg = sorted_arg[::-1]\n",
    "sorted_hashtags = []\n",
    "sorted_count = []\n",
    "for i in sorted_arg:\n",
    "    sorted_hashtags.append(hashtags[i])\n",
    "    sorted_count.append(count[i])\n",
    "    \n",
    "print(sorted_hashtags)\n",
    "print(sorted_count)"
   ]
  }
 ],
 "metadata": {
  "kernelspec": {
   "display_name": "venvCSM",
   "language": "python",
   "name": "venvcsm"
  },
  "language_info": {
   "codemirror_mode": {
    "name": "ipython",
    "version": 3
   },
   "file_extension": ".py",
   "mimetype": "text/x-python",
   "name": "python",
   "nbconvert_exporter": "python",
   "pygments_lexer": "ipython3",
   "version": "3.5.2"
  }
 },
 "nbformat": 4,
 "nbformat_minor": 4
}
